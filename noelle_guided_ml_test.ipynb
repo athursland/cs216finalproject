{
 "cells": [
  {
   "cell_type": "code",
   "execution_count": 40,
   "metadata": {},
   "outputs": [],
   "source": [
    "import numpy as np\n",
    "import pandas as pd\n",
    "import scipy as stats\n",
    "\n",
    "from statistics import median\n",
    "from sklearn import linear_model\n",
    "from sklearn.linear_model import LinearRegression\n",
    "from sklearn.metrics import mean_squared_error\n",
    "from sklearn.metrics import r2_score"
   ]
  },
  {
   "cell_type": "code",
   "execution_count": 41,
   "metadata": {},
   "outputs": [
    {
     "data": {
      "text/plain": [
       "Index(['id', 'state', 'county', 'jail', 'year', 'date_of_death', 'full_name',\n",
       "       'last_name', 'first_name', 'mid_name', 'suffix', 'date_incarcerated',\n",
       "       'cause_short', 'cause_detail', 'dob', 'yob', 'age', 'race',\n",
       "       'race_detail', 'gender', 'custody_status', 'what_info_from_media',\n",
       "       'num_media_descriptors'],\n",
       "      dtype='object')"
      ]
     },
     "execution_count": 41,
     "metadata": {},
     "output_type": "execute_result"
    }
   ],
   "source": [
    "jails = pd.read_csv(\"all_deaths_clean\")\n",
    "\n",
    "jails.columns"
   ]
  },
  {
   "cell_type": "code",
   "execution_count": 42,
   "metadata": {},
   "outputs": [],
   "source": [
    "#all columns we want\n",
    "cols_of_interest = jails[[\"cause_short\", \"age\", \"race\", \"custody_status\", \"gender\"]].dropna()"
   ]
  },
  {
   "cell_type": "code",
   "execution_count": 43,
   "metadata": {},
   "outputs": [
    {
     "name": "stdout",
     "output_type": "stream",
     "text": [
      "cause_short        8\n",
      "age               73\n",
      "race               7\n",
      "custody_status     2\n",
      "gender             2\n",
      "dtype: int64\n",
      "['W' 'B' 'H' 'AI' 'O' 'PI' 'A']\n",
      "['s' 'm' 'da' 'ac' 'h' 'o' 'a' 'u']\n",
      "W     1491\n",
      "B      833\n",
      "H      184\n",
      "AI      40\n",
      "A       11\n",
      "O        8\n",
      "PI       2\n",
      "Name: race, dtype: int64\n",
      "m     1373\n",
      "s      825\n",
      "da     237\n",
      "h       56\n",
      "ac      46\n",
      "o       28\n",
      "u        3\n",
      "a        1\n",
      "Name: cause_short, dtype: int64\n"
     ]
    }
   ],
   "source": [
    "print(cols_of_interest.nunique())\n",
    "\n",
    "print(cols_of_interest[\"race\"].unique())\n",
    "\n",
    "print(cols_of_interest[\"cause_short\"].unique())\n",
    "\n",
    "#I see that there is very few of race categories PI, O, and A- gonna remove those for now :( since it is causing asymmetry in the train test split of the model\n",
    "print(cols_of_interest[\"race\"].value_counts())\n",
    "\n",
    "#very very few of u and a categories represented in cause short, will drop those as well\n",
    "print(cols_of_interest[\"cause_short\"].value_counts())\n",
    "\n",
    "PI_mask = cols_of_interest[\"race\"] != \"PI\"\n",
    "O_mask = cols_of_interest[\"race\"] != \"O\"\n",
    "A_mask = cols_of_interest[\"race\"] != \"A\"\n",
    "\n",
    "u_mask = cols_of_interest[\"cause_short\"] != \"u\"\n",
    "a_mask = cols_of_interest[\"cause_short\"] != \"a\"\n",
    "\n",
    "cols_of_interest = cols_of_interest[PI_mask & O_mask & A_mask & u_mask & a_mask]"
   ]
  },
  {
   "cell_type": "code",
   "execution_count": 47,
   "metadata": {},
   "outputs": [
    {
     "name": "stdout",
     "output_type": "stream",
     "text": [
      "['B' 'W' 'H' 'AI']\n",
      "['W' 'H' 'B' 'AI']\n",
      "['m' 's' 'h' 'da' 'ac' 'o']\n",
      "['s' 'm' 'ac' 'da' 'h' 'o']\n"
     ]
    }
   ],
   "source": [
    "from sklearn.model_selection import train_test_split\n",
    "\n",
    "#split into predictive info and target\n",
    "data = cols_of_interest.drop(columns= [\"gender\"])\n",
    "target = cols_of_interest[\"gender\"]\n",
    "\n",
    "#split into training and test\n",
    "train_data, test_data, train_target, test_target = train_test_split(\n",
    "    data, target, test_size=0.7, random_state=999)\n",
    "\n",
    "print(train_data[\"race\"].unique())\n",
    "print(test_data[\"race\"].unique())\n",
    "print(train_data[\"cause_short\"].unique())\n",
    "print(test_data[\"cause_short\"].unique())"
   ]
  },
  {
   "cell_type": "code",
   "execution_count": 48,
   "metadata": {},
   "outputs": [
    {
     "name": "stderr",
     "output_type": "stream",
     "text": [
      "c:\\Users\\noell\\anaconda3\\lib\\site-packages\\sklearn\\linear_model\\_logistic.py:814: ConvergenceWarning: lbfgs failed to converge (status=1):\n",
      "STOP: TOTAL NO. of ITERATIONS REACHED LIMIT.\n",
      "\n",
      "Increase the number of iterations (max_iter) or scale the data as shown in:\n",
      "    https://scikit-learn.org/stable/modules/preprocessing.html\n",
      "Please also refer to the documentation for alternative solver options:\n",
      "    https://scikit-learn.org/stable/modules/linear_model.html#logistic-regression\n",
      "  n_iter_i = _check_optimize_result(\n"
     ]
    },
    {
     "data": {
      "text/plain": [
       "<sklearn.metrics._plot.confusion_matrix.ConfusionMatrixDisplay at 0x17185b1fdc0>"
      ]
     },
     "execution_count": 48,
     "metadata": {},
     "output_type": "execute_result"
    },
    {
     "data": {
      "image/png": "[encoded data removed]",
      "text/plain": [
       "<Figure size 432x288 with 2 Axes>"
      ]
     },
     "metadata": {
      "needs_background": "light"
     },
     "output_type": "display_data"
    }
   ],
   "source": [
    "\n",
    "from sklearn.linear_model import LogisticRegression\n",
    "from sklearn.preprocessing import OneHotEncoder\n",
    "from sklearn.metrics import accuracy_score\n",
    "from sklearn.metrics import ConfusionMatrixDisplay\n",
    "from sklearn import metrics\n",
    "import matplotlib.pyplot as plt # to better format confusion matrix\n",
    "\n",
    "#split train data into numerical and categorical so we can encode catagorical and fuse back together\n",
    "train_numerical = train_data[[\"age\"]].values\n",
    "train_categorical = train_data[[\"cause_short\", \"race\", \"custody_status\"]].values\n",
    "\n",
    "encoded_train_data = np.append(OneHotEncoder().fit_transform(train_categorical).toarray(), train_numerical, axis = 1)\n",
    "\n",
    "#same with test data\n",
    "test_numerical = test_data[[\"age\"]].values\n",
    "test_categorical = test_data[[\"cause_short\", \"race\", \"custody_status\"]].values\n",
    "\n",
    "encoded_data_to_predict = np.append(OneHotEncoder().fit_transform(test_categorical).toarray(), test_numerical, axis = 1)\n",
    "\n",
    "logistic_model = LogisticRegression(max_iter = 1000)\n",
    "logistic_model.fit(X = encoded_train_data, y = train_target)\n",
    "\n",
    "prediction = logistic_model.predict(encoded_data_to_predict)\n",
    "\n",
    "ConfusionMatrixDisplay.from_estimator(logistic_model, encoded_data_to_predict, test_target)\n",
    "\n",
    "#it behaves like a baseline model predicting most common :("
   ]
  }
 ],
 "metadata": {
  "kernelspec": {
   "display_name": "Python 3.9.12 ('base')",
   "language": "python",
   "name": "python3"
  },
  "language_info": {
   "codemirror_mode": {
    "name": "ipython",
    "version": 3
   },
   "file_extension": ".py",
   "mimetype": "text/x-python",
   "name": "python",
   "nbconvert_exporter": "python",
   "pygments_lexer": "ipython3",
   "version": "3.9.12"
  },
  "orig_nbformat": 4,
  "vscode": {
   "interpreter": {
    "hash": "af50718fce8fd47c021be5729f78336768be44dc371dc406d19ff7a251eccf0e"
   }
  }
 },
 "nbformat": 4,
 "nbformat_minor": 2
}
