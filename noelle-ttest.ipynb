{
 "cells": [
  {
   "cell_type": "code",
   "execution_count": 2,
   "metadata": {},
   "outputs": [],
   "source": [
    "import numpy as np\n",
    "import pandas as pd\n",
    "from scipy import stats\n",
    "\n",
    "jails_clean = pd.read_csv(\"all_deaths_clean\")"
   ]
  },
  {
   "cell_type": "code",
   "execution_count": 14,
   "metadata": {},
   "outputs": [
    {
     "name": "stdout",
     "output_type": "stream",
     "text": [
      "3.3012885011080452e-80\n"
     ]
    }
   ],
   "source": [
    "#print(jails_clean.head())\n",
    "\n",
    "#-----------------------------------------\n",
    "\n",
    "total_female_count = jails_clean[\"gender\"].value_counts()[\"f\"]\n",
    "total_gender_count = jails_clean.count()[\"gender\"]\n",
    "\n",
    "#print(total_female_count)\n",
    "#print(total_gender_count)\n",
    "\n",
    "female_avg_across_states = total_female_count/total_gender_count\n",
    "\n",
    "#print(female_avg_across_states)\n",
    "\n",
    "#print(1 - stats.norm.cdf(female_avg_across_states)) #chances of seeing this in a normal distribution, we cannot reject null with this value?\n",
    "\n",
    "#-----------------------------------------\n",
    "\n",
    "gender_count_by_state = jails_clean.groupby(\"state\").count()[\"gender\"]\n",
    "\n",
    "#print(gender_count_by_state)\n",
    "\n",
    "jails_clean_female = jails_clean.loc[jails_clean[\"gender\"] == \"f\"]\n",
    "jails_clean_male = jails_clean.loc[jails_clean[\"gender\"] == \"m\"]\n",
    "\n",
    "female_count_by_state = jails_clean_female.groupby(\"state\").count()[\"gender\"]\n",
    "male_count_by_state = jails_clean_male.groupby(\"state\").count()[\"gender\"]\n",
    "\n",
    "#print(female_count_by_state)\n",
    "#print(male_count_by_state)\n",
    "\n",
    "female_avg_by_state = female_count_by_state/gender_count_by_state\n",
    "male_avg_by_state = male_count_by_state/gender_count_by_state\n",
    "\n",
    "print(stats.ttest_ind(female_avg_by_state, male_avg_by_state)[1])\n",
    "\n",
    "#p-value is extremely small, we can reject the null hypothesis that all states have a even average of men and women\n",
    "\n"
   ]
  }
 ],
 "metadata": {
  "kernelspec": {
   "display_name": "Python 3.9.12 ('base')",
   "language": "python",
   "name": "python3"
  },
  "language_info": {
   "codemirror_mode": {
    "name": "ipython",
    "version": 3
   },
   "file_extension": ".py",
   "mimetype": "text/x-python",
   "name": "python",
   "nbconvert_exporter": "python",
   "pygments_lexer": "ipython3",
   "version": "3.9.12"
  },
  "orig_nbformat": 4,
  "vscode": {
   "interpreter": {
    "hash": "af50718fce8fd47c021be5729f78336768be44dc371dc406d19ff7a251eccf0e"
   }
  }
 },
 "nbformat": 4,
 "nbformat_minor": 2
}
