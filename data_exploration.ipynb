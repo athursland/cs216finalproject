{
 "cells": [
  {
   "cell_type": "code",
   "execution_count": 1,
   "metadata": {},
   "outputs": [],
   "source": [
    "import pandas as pd\n",
    "import numpy as np\n",
    "import seaborn as sns\n",
    "\n",
    "df = pd.read_csv(r'C:\Users\alexa\Desktop\cs216finalproject\Allstatesinsurvey\all_deaths_clean.csv', encoding='unicode_escape')"
   ]
  },
  {
   "cell_type": "code",
   "execution_count": 4,
   "metadata": {},
   "outputs": [
    {
     "name": "stdout",
     "output_type": "stream",
     "text": [
      "                Percent of deaths for white people:  0.48738607845727117\n",
      "                Percent of deaths for black people:  0.2817329282789592\n",
      "             Percent of deaths for hispanic people:  0.11623299432043323\n",
      "                Percent of deaths for asian people:  0.010830801743494914\n",
      "               Percent of deaths for native people:  0.0095099722625809\n",
      "       Percent of deaths for people of other races:  0.004094571390833444\n",
      "Percent of deaths for people with no race recorded:  0.08875974111742174\n"
     ]
    }
   ],
   "source": [
    "df_white = df[df[\"race\"] == \"W\"]\n",
    "df_black = df[df[\"race\"] == \"B\"]\n",
    "df_hispanic = df[df[\"race\"] == \"H\"]\n",
    "df_native = df[df[\"race\"] == \"AI\"]\n",
    "df_asian = df[df[\"race\"] == \"A\"]\n",
    "df_other_race = df[df[\"race\"] == \"O\"]\n",
    "df_no_race = df[df[\"race\"].isna()]\n",
    "\n",
    "print(\"                Percent of deaths for white people: \", len(df_white)/len(df_temp))\n",
    "print(\"                Percent of deaths for black people: \", len(df_black)/len(df_temp))\n",
    "print(\"             Percent of deaths for hispanic people: \", len(df_hispanic)/len(df_temp))\n",
    "print(\"                Percent of deaths for asian people: \", len(df_asian)/len(df_temp))\n",
    "print(\"               Percent of deaths for native people: \", len(df_native)/len(df_temp))\n",
    "print(\"       Percent of deaths for people of other races: \", len(df_other_race)/len(df_temp))\n",
    "print(\"Percent of deaths for people with no race recorded: \", len(df_no_race)/len(df_temp))"
   ]
  },
  {
   "cell_type": "code",
   "execution_count": 5,
   "metadata": {},
   "outputs": [
    {
     "name": "stdout",
     "output_type": "stream",
     "text": [
      "           Percent of deaths for females:  0.12032756571126668\n",
      "             Percent of deaths for males:  0.8282921674811782\n",
      "Percent of deaths for no gender recorded:  0.05138026680755514\n"
     ]
    }
   ],
   "source": [
    "df_female = df[df[\"gender\"] == \"f\"]\n",
    "df_male = df[df[\"gender\"] == \"m\"]\n",
    "df_no_gender = df_temp[df_temp[\"gender\"].isna()]\n",
    "print(\"           Percent of deaths for females: \", len(df_female)/len(df_temp))\n",
    "print(\"             Percent of deaths for males: \", len(df_male)/len(df_temp))\n",
    "print(\"Percent of deaths for no gender recorded: \", len(df_no_gender)/len(df_temp))"
   ]
  },
  {
   "cell_type": "code",
   "execution_count": 6,
   "metadata": {},
   "outputs": [
    {
     "name": "stdout",
     "output_type": "stream",
     "text": [
      "     Percent of deaths for white males:  0.41249504688944655\n",
      "   Percent of deaths for white females:  0.07198520670981376\n",
      "     Percent of deaths for black males:  0.25201426495839385\n",
      "   Percent of deaths for black females:  0.029058248580108307\n",
      "  Percent of deaths for hispanic males:  0.10593052436930392\n",
      "Percent of deaths for hispanic females:  0.009642055210672303\n",
      "     Percent of deaths for asian males:  0.009642055210672303\n",
      "   Percent of deaths for asian females:  0.009642055210672303\n",
      "    Percent of deaths for native males:  0.007528728041209879\n",
      "  Percent of deaths for native females:  0.001981244221371021\n"
     ]
    }
   ],
   "source": [
    "df_white_female = df_white[df_white[\"gender\"] == \"f\"]\n",
    "df_white_male = df_white[df_white[\"gender\"] == \"m\"]\n",
    "df_black_female = df_black[df_black[\"gender\"] == \"f\"]\n",
    "df_black_male = df_black[df_black[\"gender\"] == \"m\"]\n",
    "df_hispanic_female = df_hispanic[df_hispanic[\"gender\"] == \"f\"]\n",
    "df_hispanic_male = df_hispanic[df_hispanic[\"gender\"] == \"m\"]\n",
    "df_asian_female = df_asian[df_asian[\"gender\"] == \"f\"]\n",
    "df_asian_male = df_asian[df_asian[\"gender\"] == \"m\"]\n",
    "df_native_female = df_native[df_native[\"gender\"] == \"f\"]\n",
    "df_native_male = df_native[df_native[\"gender\"] == \"m\"]\n",
    "\n",
    "\n",
    "print(\"     Percent of deaths for white males: \", len(df_white_male)/len(df_temp))\n",
    "print(\"   Percent of deaths for white females: \", len(df_white_female)/len(df_temp))\n",
    "print(\"     Percent of deaths for black males: \", len(df_black_male)/len(df_temp))\n",
    "print(\"   Percent of deaths for black females: \", len(df_black_female)/len(df_temp))\n",
    "print(\"  Percent of deaths for hispanic males: \", len(df_hispanic_male)/len(df_temp))\n",
    "print(\"Percent of deaths for hispanic females: \", len(df_hispanic_female)/len(df_temp))\n",
    "print(\"     Percent of deaths for asian males: \", len(df_asian_male)/len(df_temp))\n",
    "print(\"   Percent of deaths for asian females: \", len(df_asian_male)/len(df_temp))\n",
    "print(\"    Percent of deaths for native males: \", len(df_native_male)/len(df_temp))\n",
    "print(\"  Percent of deaths for native females: \", len(df_native_female)/len(df_temp))"
   ]
  },
  {
   "cell_type": "code",
   "execution_count": 7,
   "metadata": {},
   "outputs": [
    {
     "name": "stdout",
     "output_type": "stream",
     "text": [
      "   Percent of deaths with media descriptors:  0.042002377493065644\n",
      "Percent of deaths with no media descriptors:  0.9579976225069343\n",
      "\n",
      "\n",
      "Average number of descriptors when present:  1.6037735849056605\n",
      " Median number of descriptors when present:  1.0\n",
      "             Maximum number of descriptors:  8.0\n"
     ]
    }
   ],
   "source": [
    "df_info_from_media = df[df[\"num_media_descriptors\"] > 0]\n",
    "df_no_info_from_media = df_temp[df_temp[\"num_media_descriptors\"].isna()]\n",
    "print(\"   Percent of deaths with media descriptors: \", len(df_info_from_media)/len(df_temp))\n",
    "print(\"Percent of deaths with no media descriptors: \", len(df_no_info_from_media)/len(df_temp))\n",
    "print(\"\\n\")\n",
    "print(\"Average number of descriptors when present: \", np.average(df_info_from_media[\"num_media_descriptors\"]))\n",
    "print(\" Median number of descriptors when present: \", np.median(df_info_from_media[\"num_media_descriptors\"]))\n",
    "print(\"             Maximum number of descriptors: \", np.max(df_info_from_media[\"num_media_descriptors\"]))"
   ]
  },
  {
   "cell_type": "code",
   "execution_count": 8,
   "metadata": {},
   "outputs": [
    {
     "name": "stdout",
     "output_type": "stream",
     "text": [
      "                Percent of white people with media descriptors:  0.021397437590807027\n",
      "                Percent of black people with media descriptors:  0.009642055210672303\n",
      "              Percent of hipanic people with media descriptors:  0.0014529124290054154\n",
      "                Percent of asian people with media descriptors:  0.0005283317923656056\n",
      "               Percent of native people with media descriptors:  0.0005283317923656056\n",
      "       Percent of people of other races with media descriptors:  0.021397437590807027\n",
      "Percent of people with no race recorded with media descriptors:  0.021397437590807027\n"
     ]
    }
   ],
   "source": [
    "df_white_media = df_info_from_media[df_info_from_media[\"race\"] == \"W\"]\n",
    "df_black_media = df_info_from_media[df_info_from_media[\"race\"] == \"B\"]\n",
    "df_hispanic_media = df_info_from_media[df_info_from_media[\"race\"] == \"H\"]\n",
    "df_asian_media = df_info_from_media[df_info_from_media[\"race\"] == \"A\"]\n",
    "df_native_media = df_info_from_media[df_info_from_media[\"race\"] == \"AI\"]\n",
    "df_other_race_media = df_info_from_media[df_info_from_media[\"race\"] == \"W\"]\n",
    "df_no_race_media = df_info_from_media[df_info_from_media[\"race\"] == \"W\"]\n",
    "\n",
    "print(\"                Percent of white people with media descriptors: \", len(df_white_media)/len(df_temp))\n",
    "print(\"                Percent of black people with media descriptors: \", len(df_black_media)/len(df_temp))\n",
    "print(\"              Percent of hipanic people with media descriptors: \", len(df_hispanic_media)/len(df_temp))\n",
    "print(\"                Percent of asian people with media descriptors: \", len(df_asian_media)/len(df_temp))\n",
    "print(\"               Percent of native people with media descriptors: \", len(df_native_media)/len(df_temp))\n",
    "print(\"       Percent of people of other races with media descriptors: \", len(df_other_race_media)/len(df_temp))\n",
    "print(\"Percent of people with no race recorded with media descriptors: \", len(df_no_race_media)/len(df_temp))"
   ]
  },
  {
   "cell_type": "code",
   "execution_count": 9,
   "metadata": {},
   "outputs": [
    {
     "name": "stdout",
     "output_type": "stream",
     "text": [
      "                       Percent of females with media descriptors:  0.054884742041712405\n",
      "                         Percent of males with media descriptors:  0.04225801307606442\n",
      "Percent of people with no gender recorded with media descriptors:  0.007712082262210797\n"
     ]
    }
   ],
   "source": [
    "df_female_media = df_info_from_media[df_info_from_media[\"gender\"] == \"f\"]\n",
    "df_male_media = df_info_from_media[df_info_from_media[\"gender\"] == \"m\"]\n",
    "df_no_gender_media = df_info_from_media[df_info_from_media[\"gender\"].isna()]\n",
    "print(\"                       Percent of females with media descriptors: \", len(df_female_media)/len(df_female))\n",
    "print(\"                         Percent of males with media descriptors: \", len(df_male_media)/len(df_male))\n",
    "print(\"Percent of people with no gender recorded with media descriptors: \", len(df_no_gender_media)/len(df_no_gender))"
   ]
  },
  {
   "cell_type": "code",
   "execution_count": null,
   "metadata": {},
   "outputs": [],
   "source": []
  }
 ],
 "metadata": {
  "kernelspec": {
   "display_name": "Python 3 (ipykernel)",
   "language": "python",
   "name": "python3"
  },
  "language_info": {
   "codemirror_mode": {
    "name": "ipython",
    "version": 3
   },
   "file_extension": ".py",
   "mimetype": "text/x-python",
   "name": "python",
   "nbconvert_exporter": "python",
   "pygments_lexer": "ipython3",
   "version": "3.9.12"
  }
 },
 "nbformat": 4,
 "nbformat_minor": 4
}
