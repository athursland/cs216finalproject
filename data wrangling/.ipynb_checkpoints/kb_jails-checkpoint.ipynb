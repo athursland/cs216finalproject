{
 "cells": [
  {
   "cell_type": "code",
   "execution_count": 1,
   "id": "fd0f95d2",
   "metadata": {},
   "outputs": [],
   "source": [
    "import pandas as pd\n",
    "import numpy as np\n",
    "from scipy import stats"
   ]
  },
  {
   "cell_type": "code",
   "execution_count": 2,
   "id": "3932b1fa",
   "metadata": {},
   "outputs": [],
   "source": [
    "jails = pd.read_csv(\"../data/all_jails_clean.csv\")"
   ]
  },
  {
   "cell_type": "code",
   "execution_count": 3,
   "id": "89e462f4",
   "metadata": {},
   "outputs": [],
   "source": [
    "# ANOVA test comparing deaths across years 2008-2019"
   ]
  },
  {
   "cell_type": "code",
   "execution_count": 4,
   "id": "47d1daa9",
   "metadata": {},
   "outputs": [
    {
     "data": {
      "text/plain": [
       "F_onewayResult(statistic=1.9625561273924328, pvalue=0.027959540347899874)"
      ]
     },
     "execution_count": 4,
     "metadata": {},
     "output_type": "execute_result"
    }
   ],
   "source": [
    "stats.f_oneway(jails[\"d2008\"].dropna(), jails[\"d2009\"].dropna(), jails[\"d2010\"].dropna(), jails[\"d2011\"].dropna(), jails[\"d2012\"].dropna(), jails[\"d2013\"].dropna(), jails[\"d2014\"].dropna(), jails[\"d2015\"].dropna(), jails[\"d2016\"].dropna(), jails[\"d2017\"].dropna(), jails[\"d2018\"].dropna(), jails[\"d2019\"].dropna())"
   ]
  },
  {
   "cell_type": "code",
   "execution_count": 5,
   "id": "d1e432d0",
   "metadata": {},
   "outputs": [
    {
     "data": {
      "text/plain": [
       "F_onewayResult(statistic=2.4008402576715695, pvalue=0.005713528487131408)"
      ]
     },
     "execution_count": 5,
     "metadata": {},
     "output_type": "execute_result"
    }
   ],
   "source": [
    "stats.f_oneway(jails[\"su2008\"].dropna(), jails[\"su2009\"].dropna(), jails[\"su2010\"].dropna(), jails[\"su2011\"].dropna(), jails[\"su2012\"].dropna(), jails[\"su2013\"].dropna(), jails[\"su2014\"].dropna(), jails[\"su2015\"].dropna(), jails[\"su2016\"].dropna(), jails[\"su2017\"].dropna(), jails[\"su2018\"].dropna(), jails[\"su2019\"].dropna())"
   ]
  },
  {
   "cell_type": "code",
   "execution_count": 7,
   "id": "50370619",
   "metadata": {},
   "outputs": [],
   "source": [
    "deaths = pd.read_csv(\"../data/all_deaths_clean.csv\")"
   ]
  },
  {
   "cell_type": "code",
   "execution_count": 8,
   "id": "7c1a9c8a",
   "metadata": {},
   "outputs": [],
   "source": [
    "jail_deaths = pd.merge(jails,deaths, on=\"id\")"
   ]
  },
  {
   "cell_type": "code",
   "execution_count": 9,
   "id": "667d0162",
   "metadata": {
    "scrolled": true
   },
   "outputs": [],
   "source": [
    "female_deaths = deaths[deaths[\"gender\"] == \"f\"].groupby(\"id\")[\"gender\"].count()"
   ]
  },
  {
   "cell_type": "code",
   "execution_count": 10,
   "id": "cc2e25f3",
   "metadata": {},
   "outputs": [],
   "source": [
    "female_deaths = female_deaths.reindex(list(range(1,int(female_deaths.index.max())+1)),fill_value=0)"
   ]
  },
  {
   "cell_type": "code",
   "execution_count": 11,
   "id": "44f3270d",
   "metadata": {},
   "outputs": [],
   "source": [
    "male_deaths = deaths[deaths[\"gender\"] == \"m\"].groupby(\"id\")[\"gender\"].count()"
   ]
  },
  {
   "cell_type": "code",
   "execution_count": 12,
   "id": "c036785f",
   "metadata": {},
   "outputs": [],
   "source": [
    "male_deaths = male_deaths.reindex(list(range(1,int(male_deaths.index.max())+1)),fill_value=0)"
   ]
  },
  {
   "cell_type": "code",
   "execution_count": 13,
   "id": "ab674bbc",
   "metadata": {},
   "outputs": [],
   "source": [
    "mdf = male_deaths.to_frame()"
   ]
  },
  {
   "cell_type": "code",
   "execution_count": 14,
   "id": "5934062d",
   "metadata": {},
   "outputs": [],
   "source": [
    "mdf = mdf.rename(columns={'gender': \"male_deaths\"})"
   ]
  },
  {
   "cell_type": "code",
   "execution_count": 15,
   "id": "4950e993",
   "metadata": {},
   "outputs": [],
   "source": [
    "fdf = female_deaths.to_frame()"
   ]
  },
  {
   "cell_type": "code",
   "execution_count": 16,
   "id": "41986008",
   "metadata": {},
   "outputs": [],
   "source": [
    "fdf = fdf.rename(columns={'gender': \"female_deaths\"})"
   ]
  },
  {
   "cell_type": "code",
   "execution_count": 17,
   "id": "8f0031f7",
   "metadata": {},
   "outputs": [],
   "source": [
    "jails_new = pd.merge(jails, mdf, on=\"id\")"
   ]
  },
  {
   "cell_type": "code",
   "execution_count": 18,
   "id": "debfcd09",
   "metadata": {},
   "outputs": [],
   "source": [
    "jails_mfdeaths = pd.merge(jails_new, fdf, on=\"id\")"
   ]
  },
  {
   "cell_type": "code",
   "execution_count": 19,
   "id": "21861a52",
   "metadata": {},
   "outputs": [
    {
     "data": {
      "text/html": [
       "<div>\n",
       "<style scoped>\n",
       "    .dataframe tbody tr th:only-of-type {\n",
       "        vertical-align: middle;\n",
       "    }\n",
       "\n",
       "    .dataframe tbody tr th {\n",
       "        vertical-align: top;\n",
       "    }\n",
       "\n",
       "    .dataframe thead th {\n",
       "        text-align: right;\n",
       "    }\n",
       "</style>\n",
       "<table border=\"1\" class=\"dataframe\">\n",
       "  <thead>\n",
       "    <tr style=\"text-align: right;\">\n",
       "      <th></th>\n",
       "      <th>Unnamed: 0</th>\n",
       "      <th>id</th>\n",
       "      <th>fips</th>\n",
       "      <th>statecode</th>\n",
       "      <th>state</th>\n",
       "      <th>state_notes</th>\n",
       "      <th>county</th>\n",
       "      <th>jail</th>\n",
       "      <th>jail_notes</th>\n",
       "      <th>d2008</th>\n",
       "      <th>...</th>\n",
       "      <th>med2012</th>\n",
       "      <th>med2013</th>\n",
       "      <th>med2014</th>\n",
       "      <th>med2015</th>\n",
       "      <th>med2016</th>\n",
       "      <th>med2017</th>\n",
       "      <th>med2018</th>\n",
       "      <th>med2019</th>\n",
       "      <th>male_deaths</th>\n",
       "      <th>female_deaths</th>\n",
       "    </tr>\n",
       "  </thead>\n",
       "  <tbody>\n",
       "    <tr>\n",
       "      <th>0</th>\n",
       "      <td>0</td>\n",
       "      <td>1</td>\n",
       "      <td>1003.0</td>\n",
       "      <td>AL</td>\n",
       "      <td>Alabama</td>\n",
       "      <td>NaN</td>\n",
       "      <td>Baldwin</td>\n",
       "      <td>Baldwin County Corr. Center</td>\n",
       "      <td>NaN</td>\n",
       "      <td>0.0</td>\n",
       "      <td>...</td>\n",
       "      <td>public</td>\n",
       "      <td>public</td>\n",
       "      <td>public</td>\n",
       "      <td>public</td>\n",
       "      <td>public/Quality Correctional Health Care</td>\n",
       "      <td>Quality Correctional Health Care</td>\n",
       "      <td>Quality Correctional Health Care</td>\n",
       "      <td>Quality Correctional Health Care</td>\n",
       "      <td>0</td>\n",
       "      <td>0</td>\n",
       "    </tr>\n",
       "    <tr>\n",
       "      <th>1</th>\n",
       "      <td>1</td>\n",
       "      <td>2</td>\n",
       "      <td>1015.0</td>\n",
       "      <td>AL</td>\n",
       "      <td>Alabama</td>\n",
       "      <td>NaN</td>\n",
       "      <td>Calhoun</td>\n",
       "      <td>Calhoun County Jail</td>\n",
       "      <td>NaN</td>\n",
       "      <td>0.0</td>\n",
       "      <td>...</td>\n",
       "      <td>public</td>\n",
       "      <td>public</td>\n",
       "      <td>public</td>\n",
       "      <td>public/Quality Correctional Health Care</td>\n",
       "      <td>Quality Correctional Health Care</td>\n",
       "      <td>Quality Correctional Health Care/Southern Heal...</td>\n",
       "      <td>Southern Health Partners</td>\n",
       "      <td>Southern Health Partners</td>\n",
       "      <td>3</td>\n",
       "      <td>0</td>\n",
       "    </tr>\n",
       "    <tr>\n",
       "      <th>2</th>\n",
       "      <td>2</td>\n",
       "      <td>3</td>\n",
       "      <td>1055.0</td>\n",
       "      <td>AL</td>\n",
       "      <td>Alabama</td>\n",
       "      <td>NaN</td>\n",
       "      <td>Etowah</td>\n",
       "      <td>Etowah County Detention Center</td>\n",
       "      <td>NaN</td>\n",
       "      <td>0.0</td>\n",
       "      <td>...</td>\n",
       "      <td>Doctors' Care Family Medical Services</td>\n",
       "      <td>Doctors' Care Family Medical Services</td>\n",
       "      <td>Doctors' Care Family Medical Services</td>\n",
       "      <td>Doctors' Care Family Medical Services</td>\n",
       "      <td>Doctors' Care Family Medical Services</td>\n",
       "      <td>Doctors' Care Family Medical Services</td>\n",
       "      <td>Doctors' Care Family Medical Services</td>\n",
       "      <td>NaN</td>\n",
       "      <td>0</td>\n",
       "      <td>0</td>\n",
       "    </tr>\n",
       "    <tr>\n",
       "      <th>3</th>\n",
       "      <td>3</td>\n",
       "      <td>4</td>\n",
       "      <td>1069.0</td>\n",
       "      <td>AL</td>\n",
       "      <td>Alabama</td>\n",
       "      <td>NaN</td>\n",
       "      <td>Houston</td>\n",
       "      <td>Houston County Jail</td>\n",
       "      <td>NaN</td>\n",
       "      <td>1.0</td>\n",
       "      <td>...</td>\n",
       "      <td>public</td>\n",
       "      <td>public</td>\n",
       "      <td>public</td>\n",
       "      <td>public</td>\n",
       "      <td>public</td>\n",
       "      <td>public</td>\n",
       "      <td>public</td>\n",
       "      <td>public</td>\n",
       "      <td>5</td>\n",
       "      <td>1</td>\n",
       "    </tr>\n",
       "    <tr>\n",
       "      <th>4</th>\n",
       "      <td>4</td>\n",
       "      <td>5</td>\n",
       "      <td>1073.0</td>\n",
       "      <td>AL</td>\n",
       "      <td>Alabama</td>\n",
       "      <td>NaN</td>\n",
       "      <td>Jefferson</td>\n",
       "      <td>Jefferson County Birmingham Jail</td>\n",
       "      <td>ADP for 2008 was based on data provided by the...</td>\n",
       "      <td>NaN</td>\n",
       "      <td>...</td>\n",
       "      <td>Advanced Correctional Healthcare</td>\n",
       "      <td>Advanced Correctional Healthcare</td>\n",
       "      <td>Advanced Correctional Healthcare</td>\n",
       "      <td>Advanced Correctional Healthcare</td>\n",
       "      <td>Advanced Correctional Healthcare</td>\n",
       "      <td>Advanced Correctional Healthcare</td>\n",
       "      <td>Advanced Correctional Healthcare</td>\n",
       "      <td>Advanced Correctional Healthcare</td>\n",
       "      <td>4</td>\n",
       "      <td>1</td>\n",
       "    </tr>\n",
       "    <tr>\n",
       "      <th>...</th>\n",
       "      <td>...</td>\n",
       "      <td>...</td>\n",
       "      <td>...</td>\n",
       "      <td>...</td>\n",
       "      <td>...</td>\n",
       "      <td>...</td>\n",
       "      <td>...</td>\n",
       "      <td>...</td>\n",
       "      <td>...</td>\n",
       "      <td>...</td>\n",
       "      <td>...</td>\n",
       "      <td>...</td>\n",
       "      <td>...</td>\n",
       "      <td>...</td>\n",
       "      <td>...</td>\n",
       "      <td>...</td>\n",
       "      <td>...</td>\n",
       "      <td>...</td>\n",
       "      <td>...</td>\n",
       "      <td>...</td>\n",
       "      <td>...</td>\n",
       "    </tr>\n",
       "    <tr>\n",
       "      <th>518</th>\n",
       "      <td>518</td>\n",
       "      <td>498</td>\n",
       "      <td>56021.0</td>\n",
       "      <td>WY</td>\n",
       "      <td>Wyoming</td>\n",
       "      <td>NaN</td>\n",
       "      <td>Laramie</td>\n",
       "      <td>Laramie County Detention Facility</td>\n",
       "      <td>NaN</td>\n",
       "      <td>0.0</td>\n",
       "      <td>...</td>\n",
       "      <td>Wellpath</td>\n",
       "      <td>Wellpath</td>\n",
       "      <td>Wellpath</td>\n",
       "      <td>Wellpath</td>\n",
       "      <td>Wellpath</td>\n",
       "      <td>Wellpath</td>\n",
       "      <td>Wellpath</td>\n",
       "      <td>Wellpath</td>\n",
       "      <td>6</td>\n",
       "      <td>0</td>\n",
       "    </tr>\n",
       "    <tr>\n",
       "      <th>519</th>\n",
       "      <td>519</td>\n",
       "      <td>499</td>\n",
       "      <td>56025.0</td>\n",
       "      <td>WY</td>\n",
       "      <td>Wyoming</td>\n",
       "      <td>NaN</td>\n",
       "      <td>Natrona</td>\n",
       "      <td>Natrona County Detention Center</td>\n",
       "      <td>NaN</td>\n",
       "      <td>0.0</td>\n",
       "      <td>...</td>\n",
       "      <td>public</td>\n",
       "      <td>public</td>\n",
       "      <td>public</td>\n",
       "      <td>public</td>\n",
       "      <td>public</td>\n",
       "      <td>public</td>\n",
       "      <td>public</td>\n",
       "      <td>NaN</td>\n",
       "      <td>6</td>\n",
       "      <td>0</td>\n",
       "    </tr>\n",
       "    <tr>\n",
       "      <th>520</th>\n",
       "      <td>520</td>\n",
       "      <td>500</td>\n",
       "      <td>56031.0</td>\n",
       "      <td>WY</td>\n",
       "      <td>Wyoming</td>\n",
       "      <td>NaN</td>\n",
       "      <td>Platte</td>\n",
       "      <td>Platte County Detention Center</td>\n",
       "      <td>NaN</td>\n",
       "      <td>0.0</td>\n",
       "      <td>...</td>\n",
       "      <td>public</td>\n",
       "      <td>public</td>\n",
       "      <td>public</td>\n",
       "      <td>public</td>\n",
       "      <td>public</td>\n",
       "      <td>public</td>\n",
       "      <td>public</td>\n",
       "      <td>public</td>\n",
       "      <td>0</td>\n",
       "      <td>1</td>\n",
       "    </tr>\n",
       "    <tr>\n",
       "      <th>521</th>\n",
       "      <td>521</td>\n",
       "      <td>501</td>\n",
       "      <td>56033.0</td>\n",
       "      <td>WY</td>\n",
       "      <td>Wyoming</td>\n",
       "      <td>NaN</td>\n",
       "      <td>Sheridan</td>\n",
       "      <td>Sheridan County Detention Center</td>\n",
       "      <td>NaN</td>\n",
       "      <td>0.0</td>\n",
       "      <td>...</td>\n",
       "      <td>Wellpath</td>\n",
       "      <td>Wellpath</td>\n",
       "      <td>Wellpath</td>\n",
       "      <td>Wellpath</td>\n",
       "      <td>Wellpath</td>\n",
       "      <td>Wellpath</td>\n",
       "      <td>Wellpath</td>\n",
       "      <td>Wellpath</td>\n",
       "      <td>1</td>\n",
       "      <td>0</td>\n",
       "    </tr>\n",
       "    <tr>\n",
       "      <th>522</th>\n",
       "      <td>522</td>\n",
       "      <td>502</td>\n",
       "      <td>56037.0</td>\n",
       "      <td>WY</td>\n",
       "      <td>Wyoming</td>\n",
       "      <td>NaN</td>\n",
       "      <td>Sweetwater</td>\n",
       "      <td>Sweetwater County Detention Center</td>\n",
       "      <td>NaN</td>\n",
       "      <td>0.0</td>\n",
       "      <td>...</td>\n",
       "      <td>public</td>\n",
       "      <td>public</td>\n",
       "      <td>public</td>\n",
       "      <td>public</td>\n",
       "      <td>public</td>\n",
       "      <td>public</td>\n",
       "      <td>public</td>\n",
       "      <td>public</td>\n",
       "      <td>1</td>\n",
       "      <td>0</td>\n",
       "    </tr>\n",
       "  </tbody>\n",
       "</table>\n",
       "<p>523 rows × 119 columns</p>\n",
       "</div>"
      ],
      "text/plain": [
       "     Unnamed: 0   id     fips statecode    state state_notes      county  \\\n",
       "0             0    1   1003.0        AL  Alabama         NaN     Baldwin   \n",
       "1             1    2   1015.0        AL  Alabama         NaN     Calhoun   \n",
       "2             2    3   1055.0        AL  Alabama         NaN      Etowah   \n",
       "3             3    4   1069.0        AL  Alabama         NaN     Houston   \n",
       "4             4    5   1073.0        AL  Alabama         NaN   Jefferson   \n",
       "..          ...  ...      ...       ...      ...         ...         ...   \n",
       "518         518  498  56021.0        WY  Wyoming         NaN     Laramie   \n",
       "519         519  499  56025.0        WY  Wyoming         NaN     Natrona   \n",
       "520         520  500  56031.0        WY  Wyoming         NaN      Platte   \n",
       "521         521  501  56033.0        WY  Wyoming         NaN    Sheridan   \n",
       "522         522  502  56037.0        WY  Wyoming         NaN  Sweetwater   \n",
       "\n",
       "                                   jail  \\\n",
       "0           Baldwin County Corr. Center   \n",
       "1                   Calhoun County Jail   \n",
       "2        Etowah County Detention Center   \n",
       "3                   Houston County Jail   \n",
       "4      Jefferson County Birmingham Jail   \n",
       "..                                  ...   \n",
       "518   Laramie County Detention Facility   \n",
       "519     Natrona County Detention Center   \n",
       "520      Platte County Detention Center   \n",
       "521    Sheridan County Detention Center   \n",
       "522  Sweetwater County Detention Center   \n",
       "\n",
       "                                            jail_notes  d2008  ...  \\\n",
       "0                                                  NaN    0.0  ...   \n",
       "1                                                  NaN    0.0  ...   \n",
       "2                                                  NaN    0.0  ...   \n",
       "3                                                  NaN    1.0  ...   \n",
       "4    ADP for 2008 was based on data provided by the...    NaN  ...   \n",
       "..                                                 ...    ...  ...   \n",
       "518                                                NaN    0.0  ...   \n",
       "519                                                NaN    0.0  ...   \n",
       "520                                                NaN    0.0  ...   \n",
       "521                                                NaN    0.0  ...   \n",
       "522                                                NaN    0.0  ...   \n",
       "\n",
       "                                   med2012  \\\n",
       "0                                   public   \n",
       "1                                   public   \n",
       "2    Doctors' Care Family Medical Services   \n",
       "3                                   public   \n",
       "4         Advanced Correctional Healthcare   \n",
       "..                                     ...   \n",
       "518                               Wellpath   \n",
       "519                                 public   \n",
       "520                                 public   \n",
       "521                               Wellpath   \n",
       "522                                 public   \n",
       "\n",
       "                                   med2013  \\\n",
       "0                                   public   \n",
       "1                                   public   \n",
       "2    Doctors' Care Family Medical Services   \n",
       "3                                   public   \n",
       "4         Advanced Correctional Healthcare   \n",
       "..                                     ...   \n",
       "518                               Wellpath   \n",
       "519                                 public   \n",
       "520                                 public   \n",
       "521                               Wellpath   \n",
       "522                                 public   \n",
       "\n",
       "                                   med2014  \\\n",
       "0                                   public   \n",
       "1                                   public   \n",
       "2    Doctors' Care Family Medical Services   \n",
       "3                                   public   \n",
       "4         Advanced Correctional Healthcare   \n",
       "..                                     ...   \n",
       "518                               Wellpath   \n",
       "519                                 public   \n",
       "520                                 public   \n",
       "521                               Wellpath   \n",
       "522                                 public   \n",
       "\n",
       "                                     med2015  \\\n",
       "0                                     public   \n",
       "1    public/Quality Correctional Health Care   \n",
       "2      Doctors' Care Family Medical Services   \n",
       "3                                     public   \n",
       "4           Advanced Correctional Healthcare   \n",
       "..                                       ...   \n",
       "518                                 Wellpath   \n",
       "519                                   public   \n",
       "520                                   public   \n",
       "521                                 Wellpath   \n",
       "522                                   public   \n",
       "\n",
       "                                     med2016  \\\n",
       "0    public/Quality Correctional Health Care   \n",
       "1           Quality Correctional Health Care   \n",
       "2      Doctors' Care Family Medical Services   \n",
       "3                                     public   \n",
       "4           Advanced Correctional Healthcare   \n",
       "..                                       ...   \n",
       "518                                 Wellpath   \n",
       "519                                   public   \n",
       "520                                   public   \n",
       "521                                 Wellpath   \n",
       "522                                   public   \n",
       "\n",
       "                                               med2017  \\\n",
       "0                     Quality Correctional Health Care   \n",
       "1    Quality Correctional Health Care/Southern Heal...   \n",
       "2                Doctors' Care Family Medical Services   \n",
       "3                                               public   \n",
       "4                     Advanced Correctional Healthcare   \n",
       "..                                                 ...   \n",
       "518                                           Wellpath   \n",
       "519                                             public   \n",
       "520                                             public   \n",
       "521                                           Wellpath   \n",
       "522                                             public   \n",
       "\n",
       "                                   med2018                           med2019  \\\n",
       "0         Quality Correctional Health Care  Quality Correctional Health Care   \n",
       "1                 Southern Health Partners          Southern Health Partners   \n",
       "2    Doctors' Care Family Medical Services                               NaN   \n",
       "3                                   public                            public   \n",
       "4         Advanced Correctional Healthcare  Advanced Correctional Healthcare   \n",
       "..                                     ...                               ...   \n",
       "518                               Wellpath                          Wellpath   \n",
       "519                                 public                               NaN   \n",
       "520                                 public                            public   \n",
       "521                               Wellpath                          Wellpath   \n",
       "522                                 public                            public   \n",
       "\n",
       "     male_deaths  female_deaths  \n",
       "0              0              0  \n",
       "1              3              0  \n",
       "2              0              0  \n",
       "3              5              1  \n",
       "4              4              1  \n",
       "..           ...            ...  \n",
       "518            6              0  \n",
       "519            6              0  \n",
       "520            0              1  \n",
       "521            1              0  \n",
       "522            1              0  \n",
       "\n",
       "[523 rows x 119 columns]"
      ]
     },
     "execution_count": 19,
     "metadata": {},
     "output_type": "execute_result"
    }
   ],
   "source": [
    "jails_mfdeaths"
   ]
  },
  {
   "cell_type": "code",
   "execution_count": 20,
   "id": "4744f19f",
   "metadata": {},
   "outputs": [],
   "source": [
    "jails_mfdeaths[\"male_percent\"] = jails_mfdeaths[\"male_deaths\"]/(jails_mfdeaths[\"male_deaths\"] + jails_mfdeaths[\"female_deaths\"])\n",
    "jails_mfdeaths[\"female_percent\"] = jails_mfdeaths[\"female_deaths\"]/(jails_mfdeaths[\"male_deaths\"] + jails_mfdeaths[\"female_deaths\"])"
   ]
  },
  {
   "cell_type": "code",
   "execution_count": 24,
   "id": "c4aab324",
   "metadata": {},
   "outputs": [],
   "source": [
    "jails_mfdeaths.to_csv('../data/jails_mf.csv')"
   ]
  },
  {
   "cell_type": "code",
   "execution_count": 25,
   "id": "f49484ca",
   "metadata": {
    "scrolled": true
   },
   "outputs": [],
   "source": [
    "df1 = jails_mfdeaths.groupby(\"statecode\")[\"male_deaths\"].sum().to_frame()"
   ]
  },
  {
   "cell_type": "code",
   "execution_count": 26,
   "id": "37d4be51",
   "metadata": {},
   "outputs": [],
   "source": [
    "df2 = jails_mfdeaths.groupby(\"statecode\")[\"female_deaths\"].sum().to_frame()"
   ]
  },
  {
   "cell_type": "code",
   "execution_count": 27,
   "id": "d3c8fdc2",
   "metadata": {},
   "outputs": [],
   "source": [
    "df3 = pd.merge(df1,df2, on=\"statecode\")"
   ]
  },
  {
   "cell_type": "code",
   "execution_count": 28,
   "id": "4e3a5c12",
   "metadata": {},
   "outputs": [
    {
     "data": {
      "text/plain": [
       "(45, 2)"
      ]
     },
     "execution_count": 28,
     "metadata": {},
     "output_type": "execute_result"
    }
   ],
   "source": [
    "df3.shape"
   ]
  },
  {
   "cell_type": "code",
   "execution_count": 29,
   "id": "611a37af",
   "metadata": {},
   "outputs": [
    {
     "data": {
      "text/plain": [
       "(8, 2)"
      ]
     },
     "execution_count": 29,
     "metadata": {},
     "output_type": "execute_result"
    }
   ],
   "source": [
    "NE = df3.filter(items = [\"CT\", \"DC\", \"MN\", \"MD\", \"MA\", \"NH\", \"NJ\", \"NY\", \"PA\", \"RI\", \"VT\", \"DE\"], axis = 0)\n",
    "NE.shape"
   ]
  },
  {
   "cell_type": "code",
   "execution_count": 30,
   "id": "bf0d8b27",
   "metadata": {},
   "outputs": [
    {
     "data": {
      "text/plain": [
       "(4, 2)"
      ]
     },
     "execution_count": 30,
     "metadata": {},
     "output_type": "execute_result"
    }
   ],
   "source": [
    "SW = df3.filter(items = [\"AZ\", \"NM\", \"OK\", \"TX\"], axis = 0)\n",
    "SW.shape"
   ]
  },
  {
   "cell_type": "code",
   "execution_count": 31,
   "id": "67e58f76",
   "metadata": {},
   "outputs": [
    {
     "data": {
      "text/plain": [
       "(10, 2)"
      ]
     },
     "execution_count": 31,
     "metadata": {},
     "output_type": "execute_result"
    }
   ],
   "source": [
    "SE = df3.filter(items = [\"WV\", \"VA\", \"KT\", \"TN\", \"NC\", \"SC\", \"GA\", \"FL\", \"AL\", \"MS\", \"AR\", \"LS\"], axis = 0)\n",
    "SE.shape"
   ]
  },
  {
   "cell_type": "code",
   "execution_count": 32,
   "id": "64fc56a7",
   "metadata": {},
   "outputs": [
    {
     "data": {
      "text/plain": [
       "(12, 2)"
      ]
     },
     "execution_count": 32,
     "metadata": {},
     "output_type": "execute_result"
    }
   ],
   "source": [
    "MW = df3.filter(items = [\"OH\", \"IN\", \"MI\", \"MO\", \"IL\", \"WI\", \"IA\", \"MN\", \"ND\", \"SD\", \"KS\", \"NE\"], axis = 0)\n",
    "MW.shape"
   ]
  },
  {
   "cell_type": "code",
   "execution_count": 33,
   "id": "fd05070b",
   "metadata": {},
   "outputs": [
    {
     "data": {
      "text/plain": [
       "(9, 2)"
      ]
     },
     "execution_count": 33,
     "metadata": {},
     "output_type": "execute_result"
    }
   ],
   "source": [
    "W = df3.filter(items = [\"CO\", \"WY\", \"MT\", \"ID\", \"WA\", \"OR\", \"UT\", \"NV\", \"CA\", \"AK\", \"HI\"], axis = 0)\n",
    "W.shape"
   ]
  },
  {
   "cell_type": "code",
   "execution_count": 34,
   "id": "23c8e14b",
   "metadata": {},
   "outputs": [],
   "source": [
    "male_NE = NE[\"male_deaths\"]/(NE[\"male_deaths\"] + NE[\"female_deaths\"])\n",
    "female_NE = NE[\"female_deaths\"]/(NE[\"male_deaths\"] + NE[\"female_deaths\"])\n",
    "male_SW = SW[\"male_deaths\"]/(SW[\"male_deaths\"] + SW[\"female_deaths\"])\n",
    "female_SW = SW[\"female_deaths\"]/(SW[\"male_deaths\"] + SW[\"female_deaths\"])\n",
    "male_SE = SE[\"male_deaths\"]/(SE[\"male_deaths\"] + SE[\"female_deaths\"])\n",
    "female_SE = SE[\"female_deaths\"]/(SE[\"male_deaths\"] + SE[\"female_deaths\"])\n",
    "male_MW = MW[\"male_deaths\"]/(MW[\"male_deaths\"] + MW[\"female_deaths\"])\n",
    "female_MW = MW[\"female_deaths\"]/(MW[\"male_deaths\"] + MW[\"female_deaths\"])\n",
    "male_W = W[\"male_deaths\"]/(W[\"male_deaths\"] + W[\"female_deaths\"])\n",
    "female_W = W[\"female_deaths\"]/(W[\"male_deaths\"] + W[\"female_deaths\"])"
   ]
  },
  {
   "cell_type": "code",
   "execution_count": 35,
   "id": "c7aa6693",
   "metadata": {},
   "outputs": [],
   "source": [
    "# ANOVA test comparing percent of male and female deaths in different regions in US"
   ]
  },
  {
   "cell_type": "code",
   "execution_count": 36,
   "id": "59cf66c7",
   "metadata": {},
   "outputs": [
    {
     "data": {
      "text/plain": [
       "F_onewayResult(statistic=0.7499368898281769, pvalue=0.5642458612489223)"
      ]
     },
     "execution_count": 36,
     "metadata": {},
     "output_type": "execute_result"
    }
   ],
   "source": [
    "stats.f_oneway(male_NE, male_SW, male_SE, male_MW, male_W)"
   ]
  },
  {
   "cell_type": "code",
   "execution_count": 37,
   "id": "16e7a9d7",
   "metadata": {
    "scrolled": true
   },
   "outputs": [
    {
     "data": {
      "text/plain": [
       "F_onewayResult(statistic=0.7499368898281774, pvalue=0.5642458612489223)"
      ]
     },
     "execution_count": 37,
     "metadata": {},
     "output_type": "execute_result"
    }
   ],
   "source": [
    "stats.f_oneway(female_NE, female_SW, female_SE, female_MW, female_W)"
   ]
  },
  {
   "cell_type": "code",
   "execution_count": 39,
   "id": "5bcd5c5b",
   "metadata": {},
   "outputs": [
    {
     "data": {
      "text/plain": [
       "array(['Unnamed: 0', 'id', 'fips', 'statecode', 'state', 'state_notes',\n",
       "       'county', 'jail', 'jail_notes', 'd2008', 'd2009', 'd2010', 'd2011',\n",
       "       'd2012', 'd2013', 'd2014', 'd2015', 'd2016', 'd2017', 'd2018',\n",
       "       'd2019', 'su2008', 'su2009', 'su2010', 'su2011', 'su2012',\n",
       "       'su2013', 'su2014', 'su2015', 'su2016', 'su2017', 'su2018',\n",
       "       'su2019', 'da2008', 'da2009', 'da2010', 'da2011', 'da2012',\n",
       "       'da2013', 'da2014', 'da2015', 'da2016', 'da2017', 'da2018',\n",
       "       'da2019', 'il2008', 'il2009', 'il2010', 'il2011', 'il2012',\n",
       "       'il2013', 'il2014', 'il2015', 'il2016', 'il2017', 'il2018',\n",
       "       'il2019', 'o2008', 'o2009', 'o2010', 'o2011', 'o2012', 'o2013',\n",
       "       'o2014', 'o2015', 'o2016', 'o2017', 'o2018', 'o2019', 'ho2008',\n",
       "       'ho2009', 'ho2010', 'ho2011', 'ho2012', 'ho2013', 'ho2014',\n",
       "       'ho2015', 'ho2016', 'ho2017', 'ho2018', 'ho2019', 'ac2008',\n",
       "       'ac2009', 'ac2010', 'ac2011', 'ac2012', 'ac2013', 'ac2014',\n",
       "       'ac2015', 'ac2016', 'ac2017', 'ac2018', 'ac2019', 'adp2008',\n",
       "       'adp2009', 'adp2010', 'adp2011', 'adp2012', 'adp2013', 'adp2014',\n",
       "       'adp2015', 'adp2016', 'adp2017', 'adp2018', 'adp2019', 'med2008',\n",
       "       'med2009', 'med2010', 'med2011', 'med2012', 'med2013', 'med2014',\n",
       "       'med2015', 'med2016', 'med2017', 'med2018', 'med2019',\n",
       "       'male_deaths', 'female_deaths', 'male_percent', 'female_percent'],\n",
       "      dtype=object)"
      ]
     },
     "execution_count": 39,
     "metadata": {},
     "output_type": "execute_result"
    }
   ],
   "source": [
    "jails_mfdeaths.columns.values"
   ]
  },
  {
   "cell_type": "code",
   "execution_count": null,
   "id": "92626713",
   "metadata": {},
   "outputs": [],
   "source": []
  }
 ],
 "metadata": {
  "kernelspec": {
   "display_name": "Python 3 (ipykernel)",
   "language": "python",
   "name": "python3"
  },
  "language_info": {
   "codemirror_mode": {
    "name": "ipython",
    "version": 3
   },
   "file_extension": ".py",
   "mimetype": "text/x-python",
   "name": "python",
   "nbconvert_exporter": "python",
   "pygments_lexer": "ipython3",
   "version": "3.9.12"
  }
 },
 "nbformat": 4,
 "nbformat_minor": 5
}
