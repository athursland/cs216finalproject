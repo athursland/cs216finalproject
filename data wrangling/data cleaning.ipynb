{
 "cells": [
  {
   "cell_type": "code",
   "execution_count": 1,
   "metadata": {},
   "outputs": [],
   "source": [
    "import pandas as pd\n",
    "import numpy as np\n",
    "import seaborn as sns\n",
    "from collections import Counter\n",
    "import re\n",
    "\n",
    "df = pd.read_csv('Allstatesinsurvey/all_deaths.csv', encoding='cp1252')"
   ]
  },
  {
   "cell_type": "code",
   "execution_count": 2,
   "metadata": {},
   "outputs": [
    {
     "name": "stdout",
     "output_type": "stream",
     "text": [
      "Index(['id', 'state', 'county', 'jail', 'year', 'date_of_death', 'full_name',\n",
      "       'last_name', 'first_name', 'mid_name', 'suffix', 'date_incarcerated',\n",
      "       'cause_short', 'cause_detail', 'dob', 'yob', 'age', 'race',\n",
      "       'race_detail', 'gender', 'custody_status', 'what_info_from_media',\n",
      "       'num_media_descriptors'],\n",
      "      dtype='object')\n"
     ]
    }
   ],
   "source": [
    "# cleaning (lowercase)\n",
    "\n",
    "df_temp = df\n",
    "df_temp['gender'] = df_temp['gender'].str.lower()\n",
    "df_temp['cause_short'] = df_temp['cause_short'].str.lower()\n",
    "df_temp['what_info_from_media'] = df_temp['what_info_from_media'].str.lower()\n",
    "df_temp['num_media_descriptors'] = 0\n",
    "df_temp['num_media_descriptors'] = df_temp['what_info_from_media'].str.split(\",\").str.len()\n",
    "\n",
    "df_temp['cause_detail'] = df_temp['cause_detail'].str.lower()\n",
    "df_temp['cause_detail'] = df_temp['cause_detail'].where(df_temp['cause_detail']!='unknown')\n",
    "\n",
    "print(df_temp.columns)"
   ]
  },
  {
   "cell_type": "code",
   "execution_count": 3,
   "metadata": {},
   "outputs": [],
   "source": [
    "# date-time\n",
    "df_temp['date_of_death'] = pd.to_datetime(arg=df_temp['date_of_death'], errors='coerce', format='%m/%d/%Y')\n",
    "df_temp['dob'] = pd.to_datetime(arg=df_temp['dob'], errors='coerce', format='%m/%d/%Y')\n",
    "df_temp['date_incarcerated'] = pd.to_datetime(arg=df_temp['date_incarcerated'], errors='coerce', format='%m/%d/%Y')\n",
    "df_temp['length_incarceration'] = (df_temp['date_of_death'] - df_temp['date_incarcerated']).dt.days"
   ]
  },
  {
   "cell_type": "markdown",
   "metadata": {},
   "source": [
    "Using regex to standardize detailed death information to better understand poorly-categorized or un-categorized (in `cause_short`) death information."
   ]
  },
  {
   "cell_type": "code",
   "execution_count": 6,
   "metadata": {},
   "outputs": [],
   "source": [
    "df_regex_temp = df_temp\n",
    "\n",
    "cancer_regex = \"cancer|oncology|carcinoma|metastatic\"\n",
    "med_no_cancer_regex = \"medical|natural|heart attack|seizure|illness|natural|disease|blood pressure|blood clot|sepsis|bowel|cirrhosis|cardio|pulm|cardiac|diab|aids|organ|ulcer\"\n",
    "no_details_regex = \"unknown|undetermined|unspecified|cannot be determined\"\n",
    "hanging_suffocation_suicide_regex = \"hanging|hanged|strangle|strangulation|suffocation|not breathing|jump|cutting|cut|suicide\"\n",
    "drug_regex = \"overdose|drug|withdrawal|withdraw|needle|injection|toxic|narcotic|alcohol|morphine|hydrocodone\"\n",
    "\n",
    "regex_categories = {\n",
    "    \"cancer\" : cancer_regex, # “cancer”, “oncology”, “carcinoma”, “metastatic”\n",
    "    \"medical_no_cancer\" : med_no_cancer_regex, # “medical”, “natural”, “heart attack”, “seizure”, “illness”, “natural”, “disease”\n",
    "    \"hanging/suffocation/suicide\" : hanging_suffocation_suicide_regex, # “hanging”, “hanged”, ”strangulation”, “suffocation”, “not breathing”, “jump”, “cutting”, “cut”\"\n",
    "    \"drug\" : drug_regex, # “overdose”, “drug”, “withdrawal”, “needle”, “injection”\n",
    "    \"no_details\" : no_details_regex # “unknown”, “undetermined”, “unspecified”, “cannot be determined” \n",
    "}\n",
    "\n",
    "no_category = []\n",
    "\n",
    "def get_regex_cat(str):\n",
    "    if not bool(str) or pd.isnull(str):\n",
    "        return np.nan\n",
    "    for cat in regex_categories.keys():\n",
    "        if re.search(regex_categories[cat], str):\n",
    "            return cat\n",
    "    no_category.extend(str.split())\n",
    "    return \"NO CATEGORY FOUND (NON-EMPTY)\"\n",
    "\n",
    "c = Counter(no_category)\n",
    "top_10 = c.most_common(10)\n",
    "\n",
    "df_regex_temp[\"cause_detail_group\"] = df_regex_temp.apply(lambda row: get_regex_cat(row.cause_detail), axis=1)"
   ]
  },
  {
   "cell_type": "code",
   "execution_count": 7,
   "metadata": {},
   "outputs": [],
   "source": [
    "# save\n",
    "df_temp.to_csv('all_deaths_clean.csv', encoding='utf-8', index=False)"
   ]
  },
  {
   "cell_type": "code",
   "execution_count": null,
   "metadata": {},
   "outputs": [],
   "source": []
  }
 ],
 "metadata": {
  "kernelspec": {
   "display_name": "Python 3",
   "language": "python",
   "name": "python3"
  },
  "language_info": {
   "codemirror_mode": {
    "name": "ipython",
    "version": 3
   },
   "file_extension": ".py",
   "mimetype": "text/x-python",
   "name": "python",
   "nbconvert_exporter": "python",
   "pygments_lexer": "ipython3",
   "version": "3.8.5"
  }
 },
 "nbformat": 4,
 "nbformat_minor": 4
}
