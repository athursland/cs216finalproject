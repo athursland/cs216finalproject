{
 "cells": [
  {
   "cell_type": "code",
   "execution_count": 2,
   "metadata": {},
   "outputs": [],
   "source": [
    "# import statements\n",
    "import pandas as pd\n",
    "import numpy as np\n",
    "import seaborn as sns"
   ]
  },
  {
   "cell_type": "code",
   "execution_count": 10,
   "metadata": {},
   "outputs": [
    {
     "data": {
      "text/html": [
       "<div>\n",
       "<style scoped>\n",
       "    .dataframe tbody tr th:only-of-type {\n",
       "        vertical-align: middle;\n",
       "    }\n",
       "\n",
       "    .dataframe tbody tr th {\n",
       "        vertical-align: top;\n",
       "    }\n",
       "\n",
       "    .dataframe thead th {\n",
       "        text-align: right;\n",
       "    }\n",
       "</style>\n",
       "<table border=\"1\" class=\"dataframe\">\n",
       "  <thead>\n",
       "    <tr style=\"text-align: right;\">\n",
       "      <th></th>\n",
       "      <th>id</th>\n",
       "      <th>state</th>\n",
       "      <th>county</th>\n",
       "      <th>jail</th>\n",
       "      <th>year</th>\n",
       "      <th>date_of_death</th>\n",
       "      <th>full_name</th>\n",
       "      <th>last_name</th>\n",
       "      <th>first_name</th>\n",
       "      <th>mid_name</th>\n",
       "      <th>...</th>\n",
       "      <th>yob</th>\n",
       "      <th>age</th>\n",
       "      <th>race</th>\n",
       "      <th>race_detail</th>\n",
       "      <th>gender</th>\n",
       "      <th>custody_status</th>\n",
       "      <th>what_info_from_media</th>\n",
       "      <th>num_media_descriptors</th>\n",
       "      <th>length_incarceration</th>\n",
       "      <th>cause_detail_group</th>\n",
       "    </tr>\n",
       "  </thead>\n",
       "  <tbody>\n",
       "    <tr>\n",
       "      <th>0</th>\n",
       "      <td>1.0</td>\n",
       "      <td>AL</td>\n",
       "      <td>Baldwin</td>\n",
       "      <td>Baldwin County Corr. Center</td>\n",
       "      <td>2010</td>\n",
       "      <td>NaN</td>\n",
       "      <td>NaN</td>\n",
       "      <td>NaN</td>\n",
       "      <td>NaN</td>\n",
       "      <td>NaN</td>\n",
       "      <td>...</td>\n",
       "      <td>NaN</td>\n",
       "      <td>NaN</td>\n",
       "      <td>NaN</td>\n",
       "      <td>NaN</td>\n",
       "      <td>NaN</td>\n",
       "      <td>NaN</td>\n",
       "      <td>NaN</td>\n",
       "      <td>NaN</td>\n",
       "      <td>NaN</td>\n",
       "      <td>NaN</td>\n",
       "    </tr>\n",
       "    <tr>\n",
       "      <th>1</th>\n",
       "      <td>1.0</td>\n",
       "      <td>AL</td>\n",
       "      <td>Baldwin</td>\n",
       "      <td>Baldwin County Corr. Center</td>\n",
       "      <td>2011</td>\n",
       "      <td>NaN</td>\n",
       "      <td>NaN</td>\n",
       "      <td>NaN</td>\n",
       "      <td>NaN</td>\n",
       "      <td>NaN</td>\n",
       "      <td>...</td>\n",
       "      <td>NaN</td>\n",
       "      <td>NaN</td>\n",
       "      <td>NaN</td>\n",
       "      <td>NaN</td>\n",
       "      <td>NaN</td>\n",
       "      <td>NaN</td>\n",
       "      <td>NaN</td>\n",
       "      <td>NaN</td>\n",
       "      <td>NaN</td>\n",
       "      <td>NaN</td>\n",
       "    </tr>\n",
       "    <tr>\n",
       "      <th>2</th>\n",
       "      <td>1.0</td>\n",
       "      <td>AL</td>\n",
       "      <td>Baldwin</td>\n",
       "      <td>Baldwin County Corr. Center</td>\n",
       "      <td>2015</td>\n",
       "      <td>NaN</td>\n",
       "      <td>NaN</td>\n",
       "      <td>NaN</td>\n",
       "      <td>NaN</td>\n",
       "      <td>NaN</td>\n",
       "      <td>...</td>\n",
       "      <td>NaN</td>\n",
       "      <td>NaN</td>\n",
       "      <td>NaN</td>\n",
       "      <td>NaN</td>\n",
       "      <td>NaN</td>\n",
       "      <td>NaN</td>\n",
       "      <td>NaN</td>\n",
       "      <td>NaN</td>\n",
       "      <td>NaN</td>\n",
       "      <td>NaN</td>\n",
       "    </tr>\n",
       "    <tr>\n",
       "      <th>3</th>\n",
       "      <td>1.0</td>\n",
       "      <td>AL</td>\n",
       "      <td>Baldwin</td>\n",
       "      <td>Baldwin County Corr. Center</td>\n",
       "      <td>2015</td>\n",
       "      <td>NaN</td>\n",
       "      <td>NaN</td>\n",
       "      <td>NaN</td>\n",
       "      <td>NaN</td>\n",
       "      <td>NaN</td>\n",
       "      <td>...</td>\n",
       "      <td>NaN</td>\n",
       "      <td>NaN</td>\n",
       "      <td>NaN</td>\n",
       "      <td>NaN</td>\n",
       "      <td>NaN</td>\n",
       "      <td>NaN</td>\n",
       "      <td>NaN</td>\n",
       "      <td>NaN</td>\n",
       "      <td>NaN</td>\n",
       "      <td>NaN</td>\n",
       "    </tr>\n",
       "    <tr>\n",
       "      <th>4</th>\n",
       "      <td>1.0</td>\n",
       "      <td>AL</td>\n",
       "      <td>Baldwin</td>\n",
       "      <td>Baldwin County Corr. Center</td>\n",
       "      <td>2018</td>\n",
       "      <td>NaN</td>\n",
       "      <td>NaN</td>\n",
       "      <td>NaN</td>\n",
       "      <td>NaN</td>\n",
       "      <td>NaN</td>\n",
       "      <td>...</td>\n",
       "      <td>NaN</td>\n",
       "      <td>NaN</td>\n",
       "      <td>NaN</td>\n",
       "      <td>NaN</td>\n",
       "      <td>NaN</td>\n",
       "      <td>NaN</td>\n",
       "      <td>NaN</td>\n",
       "      <td>NaN</td>\n",
       "      <td>NaN</td>\n",
       "      <td>hanging/suffocation/suicide</td>\n",
       "    </tr>\n",
       "  </tbody>\n",
       "</table>\n",
       "<p>5 rows × 25 columns</p>\n",
       "</div>"
      ],
      "text/plain": [
       "    id state   county                         jail  year date_of_death  \\\n",
       "0  1.0    AL  Baldwin  Baldwin County Corr. Center  2010           NaN   \n",
       "1  1.0    AL  Baldwin  Baldwin County Corr. Center  2011           NaN   \n",
       "2  1.0    AL  Baldwin  Baldwin County Corr. Center  2015           NaN   \n",
       "3  1.0    AL  Baldwin  Baldwin County Corr. Center  2015           NaN   \n",
       "4  1.0    AL  Baldwin  Baldwin County Corr. Center  2018           NaN   \n",
       "\n",
       "  full_name last_name first_name mid_name  ... yob age race race_detail  \\\n",
       "0       NaN       NaN        NaN      NaN  ... NaN NaN  NaN         NaN   \n",
       "1       NaN       NaN        NaN      NaN  ... NaN NaN  NaN         NaN   \n",
       "2       NaN       NaN        NaN      NaN  ... NaN NaN  NaN         NaN   \n",
       "3       NaN       NaN        NaN      NaN  ... NaN NaN  NaN         NaN   \n",
       "4       NaN       NaN        NaN      NaN  ... NaN NaN  NaN         NaN   \n",
       "\n",
       "  gender  custody_status  what_info_from_media num_media_descriptors  \\\n",
       "0    NaN             NaN                   NaN                   NaN   \n",
       "1    NaN             NaN                   NaN                   NaN   \n",
       "2    NaN             NaN                   NaN                   NaN   \n",
       "3    NaN             NaN                   NaN                   NaN   \n",
       "4    NaN             NaN                   NaN                   NaN   \n",
       "\n",
       "  length_incarceration           cause_detail_group  \n",
       "0                  NaN                          NaN  \n",
       "1                  NaN                          NaN  \n",
       "2                  NaN                          NaN  \n",
       "3                  NaN                          NaN  \n",
       "4                  NaN  hanging/suffocation/suicide  \n",
       "\n",
       "[5 rows x 25 columns]"
      ]
     },
     "execution_count": 10,
     "metadata": {},
     "output_type": "execute_result"
    }
   ],
   "source": [
    "df = pd.read_csv('../data/all_deaths_clean.csv', encoding='utf-8')\n",
    "df.head()"
   ]
  },
  {
   "cell_type": "code",
   "execution_count": 11,
   "metadata": {},
   "outputs": [],
   "source": [
    "sns.set_palette(\"YlOrRd\")"
   ]
  },
  {
   "cell_type": "code",
   "execution_count": 12,
   "metadata": {},
   "outputs": [
    {
     "name": "stdout",
     "output_type": "stream",
     "text": [
      "Size and num cols:  7571 25\n"
     ]
    }
   ],
   "source": [
    "# size\n",
    "df_len = len(df)\n",
    "df_cols = len(df.columns)\n",
    "print(\"Size and num cols: \", df_len, df_cols)"
   ]
  },
  {
   "cell_type": "code",
   "execution_count": 13,
   "metadata": {},
   "outputs": [
    {
     "data": {
      "text/plain": [
       "<seaborn.axisgrid.FacetGrid at 0x7fd294831520>"
      ]
     },
     "execution_count": 13,
     "metadata": {},
     "output_type": "execute_result"
    },
    {
     "data": {
      "image/png": "[encoded data removed]",
      "text/plain": [
       "<Figure size 720x720 with 1 Axes>"
      ]
     },
     "metadata": {
      "needs_background": "light"
     },
     "output_type": "display_data"
    }
   ],
   "source": [
    "# by state\n",
    "states = df.groupby('state')['id'].count()\n",
    "states_df = states.reset_index()\n",
    "states_df.columns = ['state', 'count']\n",
    "sns.catplot(data=states_df.sort_values(by='count', ascending=False)[:10],\n",
    "            x='count', y='state', kind='bar',\n",
    "            height=10).set(title='Counts of Deaths by State, top 10')"
   ]
  },
  {
   "cell_type": "code",
   "execution_count": 25,
   "metadata": {},
   "outputs": [],
   "source": [
    "# Exploring NaNs\n",
    "columns = list(df.columns.values)\n",
    "na_state = len(df[df['state'].isna()])/len(df)\n",
    "na_county = len(df[df['county'].isna()])/len(df)\n",
    "na_jail = len(df[df['jail'].isna()])/len(df)\n",
    "na_year = len(df[df['year'].isna()])/len(df)\n",
    "na_date_of_death = len(df[df['date_of_death'].isna()])/len(df)\n",
    "na_full_name = len(df[df['full_name'].isna()])/len(df)\n",
    "na_date_incarcerated = len(df[df['date_incarcerated'].isna()])/len(df)\n",
    "na_cause_short = len(df[df['cause_short'].isna()])/len(df)\n",
    "na_cause_detail = len(df[df['cause_detail'].isna()])/len(df)\n",
    "na_dob = len(df[df['dob'].isna()])/len(df)\n",
    "na_yob = len(df[df['yob'].isna()])/len(df)\n",
    "na_age = len(df[df['age'].isna()])/len(df)\n",
    "na_race = len(df[df['race'].isna()])/len(df)\n",
    "na_race_detail = len(df[df['race_detail'].isna()])/len(df)\n",
    "na_gender = len(df[df['gender'].isna()])/len(df)\n",
    "na_custody_status = len(df[df['custody_status'].isna()])/len(df)\n",
    "na_what_info_from_media = len(df[df['what_info_from_media'].isna()])/len(df)\n",
    "na_num_media_descriptors = len(df[df['num_media_descriptors'].isna()])/len(df)\n",
    "na_length_incarceration = len(df[df['length_incarceration'].isna()])/len(df)\n",
    "na_cause_detail_group = len(df[df['cause_detail_group'].isna()])/len(df)    "
   ]
  },
  {
   "cell_type": "code",
   "execution_count": 30,
   "metadata": {},
   "outputs": [
    {
     "name": "stdout",
     "output_type": "stream",
     "text": [
      "NaN percents:  na_state 0.0 na_county 0.0 na_jail 0.0 na_year 0.0 na_date_of_death 0.0372473913617752 na_full_name 0.831197992339189 na_date_incarcerated 0.25214634790648527 na_cause_short 0.0760797781006472 na_cause_detail 0.19469026548672566 na_dob 0.5171047417778365 na_yob 0.9714700832122573 na_race 0.08875974111742174 na_race_detail 0.9952450138687096 na_gender 0.05138026680755514 na_custody_status 0.16523576806234316 na_what_info_from_media 0.9579976225069343 na_num_media_descriptors 0.9579976225069343 na_length_incarceratio 0.2526746796988509 na_cause_detail_group 0.19469026548672566\n"
     ]
    }
   ],
   "source": [
    "print(\"NaN percents: \", \"na_state\", na_state, \"na_county\", na_county, \"na_jail\", na_jail, \"na_year\", na_year, \"na_date_of_death\", na_date_of_death, \"na_full_name\", na_full_name, \"na_date_incarcerated\", na_date_incarcerated, \"na_cause_short\", na_cause_short, \"na_cause_detail\", na_cause_detail, \"na_dob\", na_dob, \"na_yob\", na_yob, \"na_race\", na_race, \"na_race_detail\", na_race_detail, \"na_gender\", na_gender, \"na_custody_status\", na_custody_status, \"na_what_info_from_media\", na_what_info_from_media, \"na_num_media_descriptors\", na_num_media_descriptors, \"na_length_incarceratio\", na_length_incarceration, \"na_cause_detail_group\", na_cause_detail_group)"
   ]
  },
  {
   "cell_type": "code",
   "execution_count": null,
   "metadata": {},
   "outputs": [],
   "source": []
  }
 ],
 "metadata": {
  "kernelspec": {
   "display_name": "Python 3 (ipykernel)",
   "language": "python",
   "name": "python3"
  },
  "language_info": {
   "codemirror_mode": {
    "name": "ipython",
    "version": 3
   },
   "file_extension": ".py",
   "mimetype": "text/x-python",
   "name": "python",
   "nbconvert_exporter": "python",
   "pygments_lexer": "ipython3",
   "version": "3.9.12"
  }
 },
 "nbformat": 4,
 "nbformat_minor": 4
}
