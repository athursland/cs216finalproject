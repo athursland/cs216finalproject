{
 "cells": [
  {
   "cell_type": "code",
   "execution_count": 1,
   "metadata": {},
   "outputs": [],
   "source": [
    "from time import strptime\n",
    "import numpy as np\n",
    "import pandas as pd"
   ]
  },
  {
   "cell_type": "code",
   "execution_count": 2,
   "metadata": {},
   "outputs": [],
   "source": [
    "all_deaths_df = pd.read_csv(\"/Users/sydneyballard/Desktop/CS216/Final project repository/cs216finalproject/Allstatesinsurvey/all_deaths.csv\", encoding=\"unicode_escape\")\n",
    "# print(all_deaths_df.head())\n",
    "\n",
    "\n",
    "state_death_breakdown = all_deaths_df.groupby(\"state\").size().sort_values(ascending=False).groupby(level=0).apply(lambda x:\n",
    "                                                 100 * x / len(all_deaths_df))\n",
    "# print(state_death_breakdown)\n",
    "\n",
    "# print(type(all_deaths_df[\"date_of_death\"].dropna()[0]))"
   ]
  },
  {
   "cell_type": "markdown",
   "metadata": {},
   "source": [
    "Looking at all the death types by most to least common."
   ]
  },
  {
   "cell_type": "code",
   "execution_count": 3,
   "metadata": {},
   "outputs": [
    {
     "data": {
      "text/plain": [
       "cause_short\n",
       "M     3825\n",
       "S     2070\n",
       "DA     618\n",
       "H      207\n",
       "AC     151\n",
       "O      118\n",
       "U        3\n",
       "m        2\n",
       "A        1\n",
       "dtype: int64"
      ]
     },
     "execution_count": 3,
     "metadata": {},
     "output_type": "execute_result"
    }
   ],
   "source": [
    "cod_short = all_deaths_df.groupby(\"cause_short\").size().sort_values(ascending=False)\n",
    "cod_short"
   ]
  },
  {
   "cell_type": "markdown",
   "metadata": {},
   "source": [
    "Looking at the most to least common cause of death details."
   ]
  },
  {
   "cell_type": "code",
   "execution_count": 4,
   "metadata": {},
   "outputs": [
    {
     "data": {
      "text/plain": [
       "cause_detail\n",
       "hanging                                                                                                                                                                                 342\n",
       "Hanging                                                                                                                                                                                 332\n",
       "Hanging,Strangulation                                                                                                                                                                   176\n",
       "Suicide                                                                                                                                                                                 167\n",
       "suicide                                                                                                                                                                                 166\n",
       "                                                                                                                                                                                       ... \n",
       "Thrombo-pulmonary emboli                                                                                                                                                                  1\n",
       "Threw up coffee grounds?                                                                                                                                                                  1\n",
       "Therapeutic Complication, Cause of Death - Acute intoxication due to combined effects of methadone and chlordiazepoxide administered for treatment of opiate and ethanol withdrawal.      1\n",
       "Therapeutic Complication                                                                                                                                                                  1\n",
       "(a) Septic Shock, (b) MRSA Bacteremia, (c) MRSA Skin Infection with AIDS, Acute Renal Failure, Hepatitis C and Chronic Illicit Drug Use as contributing factors.                          1\n",
       "Length: 2854, dtype: int64"
      ]
     },
     "execution_count": 4,
     "metadata": {},
     "output_type": "execute_result"
    }
   ],
   "source": [
    "cod_detail = all_deaths_df.groupby(\"cause_detail\").size().sort_values(ascending=False)\n",
    "cod_detail\n"
   ]
  },
  {
   "cell_type": "code",
   "execution_count": 5,
   "metadata": {},
   "outputs": [
    {
     "data": {
      "text/plain": [
       "gender  cause_short\n",
       "F       A                 1\n",
       "        AC               18\n",
       "        DA              143\n",
       "        H                 2\n",
       "        M               479\n",
       "        O                21\n",
       "        S               182\n",
       "        U                 1\n",
       "        m                 1\n",
       "M       AC              122\n",
       "        DA              461\n",
       "        H               195\n",
       "        M              3172\n",
       "        O                91\n",
       "        S              1819\n",
       "        U                 2\n",
       "        m                 1\n",
       "f       M                 2\n",
       "m       H                 1\n",
       "        M                 5\n",
       "Name: cause_short, dtype: int64"
      ]
     },
     "execution_count": 5,
     "metadata": {},
     "output_type": "execute_result"
    }
   ],
   "source": [
    "cod_gender = all_deaths_df.groupby([\"gender\", \"cause_short\"])[\"cause_short\"].count()\n",
    "cod_gender"
   ]
  },
  {
   "cell_type": "markdown",
   "metadata": {},
   "source": [
    "Breakdown of percent death of each race by death type."
   ]
  },
  {
   "cell_type": "code",
   "execution_count": 6,
   "metadata": {},
   "outputs": [
    {
     "data": {
      "text/plain": [
       "race  cause_short\n",
       "A     AC              3.750000\n",
       "      DA              7.500000\n",
       "      H               7.500000\n",
       "      M              45.000000\n",
       "      O               1.250000\n",
       "      S              35.000000\n",
       "AI    AC              2.816901\n",
       "      DA             12.676056\n",
       "      H               2.816901\n",
       "      M              45.070423\n",
       "      S              36.619718\n",
       "B     AC              1.904762\n",
       "      DA              6.867168\n",
       "      H               4.010025\n",
       "      M              70.726817\n",
       "      O               1.904762\n",
       "      S              14.586466\n",
       "H     AC              2.988792\n",
       "      DA              9.090909\n",
       "      H               3.735990\n",
       "      M              51.805729\n",
       "      O               2.366127\n",
       "      S              29.887920\n",
       "      m               0.124533\n",
       "O     DA              4.166667\n",
       "      H               4.166667\n",
       "      M              54.166667\n",
       "      O               4.166667\n",
       "      S              33.333333\n",
       "PI    DA             10.000000\n",
       "      M              50.000000\n",
       "      O              10.000000\n",
       "      S              30.000000\n",
       "W     A               0.028425\n",
       "      AC              2.018192\n",
       "      DA             10.062536\n",
       "      H               2.046617\n",
       "      M              47.129051\n",
       "      O               1.449687\n",
       "      S              37.151791\n",
       "      U               0.085276\n",
       "      m               0.028425\n",
       "Name: cause_short, dtype: float64"
      ]
     },
     "execution_count": 6,
     "metadata": {},
     "output_type": "execute_result"
    }
   ],
   "source": [
    "cod_race = all_deaths_df.groupby([\"race\", \"cause_short\"])[\"cause_short\"].count()\n",
    "cod_race_percent = cod_race.groupby(level=0).apply(lambda x:\n",
    "                                                 100 * x / float(x.sum()))\n",
    "cod_race_percent                                                "
   ]
  },
  {
   "cell_type": "markdown",
   "metadata": {},
   "source": [
    "Most to least common incarceration dates."
   ]
  },
  {
   "cell_type": "code",
   "execution_count": 7,
   "metadata": {},
   "outputs": [
    {
     "name": "stdout",
     "output_type": "stream",
     "text": [
      "date_incarcerated\n",
      "8/8/2017      8\n",
      "8/26/2016     7\n",
      "11/13/2015    7\n",
      "7/19/2017     7\n",
      "6/4/2018      7\n",
      "             ..\n",
      "4/25/2016     1\n",
      "4/25/2018     1\n",
      "4/26/2009     1\n",
      "4/26/2012     1\n",
      "1/1/2009      1\n",
      "Length: 3154, dtype: int64\n"
     ]
    }
   ],
   "source": [
    "incarceration_date = all_deaths_df.groupby(\"date_incarcerated\").size().sort_values(ascending=False)\n",
    "print(incarceration_date)"
   ]
  },
  {
   "cell_type": "code",
   "execution_count": 8,
   "metadata": {},
   "outputs": [],
   "source": [
    "#  TODO: inconsistent date formatting, fix before converting to timestamp\n",
    "\n",
    "# Convert dates of format YYYY-XX-DD to YYYY-00-DD ?\n",
    "# all_deaths_df[\"date_of_death_time\"] = pd.to_datetime(all_deaths_df[\"date_of_death\"])\n",
    "# all_deaths_df[\"date_incarcerated_time\"] = pd.to_datetime(all_deaths_df[\"date_incarcerated\"])\n",
    "\n",
    "# all_deaths_df[\"days_incarcerated_before_death\"] = all_deaths_df[\"date_of_death\"] - all_deaths_df[\"date_incarcerated\"]"
   ]
  },
  {
   "cell_type": "code",
   "execution_count": 20,
   "metadata": {},
   "outputs": [
    {
     "name": "stdout",
     "output_type": "stream",
     "text": [
      "\n",
      "\n",
      "INTERESTING DATA POINTS\n",
      "\t* Percent of recorded deaths with media reports: 4.20%\n"
     ]
    }
   ],
   "source": [
    "media_reports = all_deaths_df[\"what_info_from_media\"].dropna()\n",
    "\n",
    "percent_media_reports = len(media_reports) / len(all_deaths_df) * 100\n",
    "\n",
    "print(\"\\n\\nINTERESTING DATA POINTS\")\n",
    "print(f\"\\t* Percent of recorded deaths with media reports: {percent_media_reports:.2f}%\")"
   ]
  },
  {
   "cell_type": "markdown",
   "metadata": {},
   "source": [
    "Regex for subgrouping cause_short"
   ]
  },
  {
   "cell_type": "code",
   "execution_count": 94,
   "metadata": {},
   "outputs": [
    {
     "name": "stdout",
     "output_type": "stream",
     "text": [
      "[]\n"
     ]
    },
    {
     "data": {
      "text/plain": [
       "cause_detail_group\n",
       "MEDICAL_NO_CANCER                2421\n",
       "HANGING/SUFFOCATION/SUICIDE      1850\n",
       "N/A (EMPTY)                      1451\n",
       "NO CATEGORY FOUND (NON-EMPTY)    1106\n",
       "DRUG                              477\n",
       "CANCER                            185\n",
       "NO_DETAILS                         81\n",
       "dtype: int64"
      ]
     },
     "execution_count": 94,
     "metadata": {},
     "output_type": "execute_result"
    }
   ],
   "source": [
    "from collections import Counter\n",
    "import re\n",
    "\n",
    "\n",
    "all_deaths_df[\"cause_short\"] = all_deaths_df[\"cause_short\"].str.upper()\n",
    "all_deaths_df[\"cause_detail\"] = all_deaths_df[\"cause_detail\"].str.lower()\n",
    "\n",
    "cancer_regex = \"cancer|oncology|carcinoma|metastatic\"\n",
    "med_no_cancer_regex = \"medical|natural|heart attack|seizure|illness|natural|disease|blood pressure|blood clot|sepsis|bowel|cirrhosis|cardio|pulm|cardiac|diab|aids|organ|ulcer\"\n",
    "no_details_regex = \"unknown|undetermined|unspecified|cannot be determined\"\n",
    "hanging_suffocation_suicide_regex = \"hanging|hanged|strangle|strangulation|suffocation|not breathing|jump|cutting|cut|suicide\"\n",
    "drug_regex = \"overdose|drug|withdrawal|withdraw|needle|injection|toxic|narcotic|alcohol|morphine|hydrocodone\"\n",
    "\n",
    "txt = \"unknown, medical related (possible drug/alcohol intoxication)\"\n",
    "# print(re.search(drug_regex, txt))\n",
    "\n",
    "regex_categories = {\n",
    "    \"CANCER\" : cancer_regex, # “cancer”, “oncology”, “carcinoma”, “metastatic”\n",
    "    \"MEDICAL_NO_CANCER\" : med_no_cancer_regex, # “medical”, “natural”, “heart attack”, “seizure”, “illness”, “natural”, “disease”\n",
    "    \"HANGING/SUFFOCATION/SUICIDE\" : hanging_suffocation_suicide_regex, # “hanging”, “hanged”, ”strangulation”, “suffocation”, “not breathing”, “jump”, “cutting”, “cut”\"\n",
    "    \"DRUG\" : drug_regex, # “overdose”, “drug”, “withdrawal”, “needle”, “injection”\n",
    "    \"NO_DETAILS\" : no_details_regex # “unknown”, “undetermined”, “unspecified”, “cannot be determined” \n",
    "}\n",
    "\n",
    "no_category = []\n",
    "\n",
    "def get_regex_cat(str):\n",
    "    # print(str)\n",
    "    if not bool(str) or pd.isnull(str):\n",
    "        return \"N/A (EMPTY)\"\n",
    "    # print(str)\n",
    "    for cat in regex_categories.keys():\n",
    "        # print(cat)\n",
    "        # check if one of 5 categories applies\n",
    "        if re.search(regex_categories[cat], str):\n",
    "            return cat\n",
    "    no_category.extend(str.split())\n",
    "    # print(no_category)\n",
    "    return \"NO CATEGORY FOUND (NON-EMPTY)\"\n",
    "\n",
    "print(no_category)\n",
    "c = Counter(no_category)\n",
    "top_10 = c.most_common(10)\n",
    "\n",
    "all_deaths_df[\"cause_detail_group\"] = all_deaths_df.apply(lambda row: get_regex_cat(row.cause_detail), axis=1)\n",
    "# # print(all_deaths_df)\n",
    "all_deaths_df.to_csv(\"all_deaths_updated.csv\")\n",
    "\n",
    "\n",
    "cod_cat = all_deaths_df.groupby(\"cause_detail_group\").size().sort_values(ascending=False)\n",
    "cod_cat\n",
    "\n"
   ]
  }
 ],
 "metadata": {
  "kernelspec": {
   "display_name": "Python 3.8.5",
   "language": "python",
   "name": "python3"
  },
  "language_info": {
   "codemirror_mode": {
    "name": "ipython",
    "version": 3
   },
   "file_extension": ".py",
   "mimetype": "text/x-python",
   "name": "python",
   "nbconvert_exporter": "python",
   "pygments_lexer": "ipython3",
   "version": "3.8.5"
  },
  "orig_nbformat": 4,
  "vscode": {
   "interpreter": {
    "hash": "6ede62234378203c00d84e11daef90ff459587fd7b89dbe6c64b0530d6eb232b"
   }
  }
 },
 "nbformat": 4,
 "nbformat_minor": 2
}
