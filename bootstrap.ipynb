{
 "cells": [
  {
   "cell_type": "code",
   "execution_count": 2,
   "metadata": {},
   "outputs": [],
   "source": [
    "import pandas as pd\n",
    "import numpy as np\n",
    "import seaborn as sns\n",
    "\n",
    "df = pd.read_csv(r'C:\\Users\\alexa\\Desktop\\cs216finalproject\\data\\all_deaths_clean')"
   ]
  },
  {
   "cell_type": "code",
   "execution_count": 26,
   "metadata": {},
   "outputs": [
    {
     "name": "stdout",
     "output_type": "stream",
     "text": [
      "           Percent of deaths for females:  0.12032756571126668\n",
      "             Percent of deaths for males:  0.8282921674811782\n",
      "Percent of deaths for no gender recorded:  0.05138026680755514\n",
      "\n",
      "Percent of females with media descriptors:  0.054884742041712405\n",
      "  Percent of males with media descriptors:  0.04225801307606442\n",
      "1.430188679245283 1.709433962264151\n",
      "1.5 2.2\n"
     ]
    }
   ],
   "source": [
    "df_female = df[df[\"gender\"] == \"f\"]\n",
    "df_male = df[df[\"gender\"] == \"m\"]\n",
    "df_no_gender = df[df[\"gender\"].isna()]\n",
    "\n",
    "print(\"           Percent of deaths for females: \", len(df_female)/len(df))\n",
    "print(\"             Percent of deaths for males: \", len(df_male)/len(df))\n",
    "print(\"Percent of deaths for no gender recorded: \", len(df_no_gender)/len(df))\n",
    "\n",
    "df_male_descriptors = df_male[df_male[\"num_media_descriptors\"] > 0]\n",
    "df_female_descriptors = df_female[df_female[\"num_media_descriptors\"] > 0]\n",
    "\n",
    "print()\n",
    "print(\"Percent of females with media descriptors: \", len(df_female_descriptors)/len(df_female))\n",
    "print(\"  Percent of males with media descriptors: \", len(df_male_descriptors)/len(df_male))\n",
    "\n",
    "male_descript = np.random.choice(df_male_descriptors[\"num_media_descriptors\"], size = (75000, len(df_male_descriptors)), replace = True)\n",
    "avg_male_descript = np.average(male_descript, axis = 1)\n",
    "male_mean_ci_l = np.percentile(avg_male_descript, 2.5)\n",
    "male_mean_ci_r = np.percentile(avg_male_descript, 97.5)\n",
    "print(male_mean_ci_l, male_mean_ci_r)\n",
    "\n",
    "female_descript = np.random.choice(df_female_descriptors[\"num_media_descriptors\"], size = (75000, len(df_female_descriptors)), replace = True)\n",
    "avg_female_descript = np.average(female_descript, axis = 1)\n",
    "female_mean_ci_l = np.percentile(avg_female_descript, 2.5)\n",
    "female_mean_ci_r = np.percentile(avg_female_descript, 97.5)\n",
    "print(female_mean_ci_l, female_mean_ci_r)"
   ]
  },
  {
   "cell_type": "code",
   "execution_count": null,
   "metadata": {},
   "outputs": [],
   "source": []
  }
 ],
 "metadata": {
  "kernelspec": {
   "display_name": "Python 3.9.12 ('base')",
   "language": "python",
   "name": "python3"
  },
  "language_info": {
   "codemirror_mode": {
    "name": "ipython",
    "version": 3
   },
   "file_extension": ".py",
   "mimetype": "text/x-python",
   "name": "python",
   "nbconvert_exporter": "python",
   "pygments_lexer": "ipython3",
   "version": "3.9.12"
  },
  "orig_nbformat": 4,
  "vscode": {
   "interpreter": {
    "hash": "277d713a2869ad522e0f58de96fa3cb2620734b34dd3b3afd7f1966d69d2580f"
   }
  }
 },
 "nbformat": 4,
 "nbformat_minor": 2
}
