{
 "cells": [
  {
   "cell_type": "code",
   "execution_count": 3,
   "metadata": {},
   "outputs": [],
   "source": [
    "import pandas as pd\n",
    "import numpy as np\n",
    "import seaborn as sns\n",
    "from scipy import stats\n",
    "# import folium as folium\n",
    "\n",
    "df = pd.read_csv('../data/all_deaths_clean.csv', encoding='utf-8')"
   ]
  },
  {
   "cell_type": "markdown",
   "metadata": {},
   "source": [
    "The following analysis is intended to uncover statistically-significant data regarding female vs. male inmate death trends. The scipy library is leveraged, specifically by using the t-test function: `stats.ttest_ind_from_stats` "
   ]
  },
  {
   "cell_type": "code",
   "execution_count": 42,
   "metadata": {},
   "outputs": [],
   "source": [
    "# SHOULD NA BE EXCLUDED? MAYBE NOT....\n",
    "df_filt = df[df[\"cause_detail_group\"].notna()]\n",
    "df_f = df_filt[df_filt['gender']=='f']\n",
    "df_m = df_filt[df_filt['gender']=='m']\n",
    "\n",
    "# Get number of female and male inmates, respectively\n",
    "n_f = df_f.shape[0]\n",
    "n_m = df_m.shape[0]"
   ]
  },
  {
   "cell_type": "markdown",
   "metadata": {},
   "source": [
    "## Male vs. Female inmates dying by drug-related cause"
   ]
  },
  {
   "cell_type": "code",
   "execution_count": 44,
   "metadata": {},
   "outputs": [
    {
     "name": "stdout",
     "output_type": "stream",
     "text": [
      "P-value IS statistically significant (p-value = 5.075926751904812e-13)\n"
     ]
    }
   ],
   "source": [
    "# Filter for drug-related deaths\n",
    "df_f_drug = df_f[df_f[\"cause_detail_group\"] == \"drug\"]\n",
    "df_m_drug = df_m[df_m[\"cause_detail_group\"] == \"drug\"]\n",
    "\n",
    "# Get mu for female and male drug-related deaths, respectively\n",
    "mu_f = df_f_drug.shape[0] / n_f\n",
    "mu_m = df_m_drug.shape[0] / n_m\n",
    "\n",
    "# Get standard deviations for female and male drug-related deaths, respectively\n",
    "std_f = np.std(np.where(df_f[\"cause_detail_group\"] == \"drug\", 1, 0))\n",
    "std_m = np.std(np.where(df_m[\"cause_detail_group\"] == \"drug\", 1, 0))\n",
    "\n",
    "# Calculate p-value\n",
    "pval = stats.ttest_ind_from_stats(mu_f, std_f, n_f, mu_m, std_m, n_m)\n",
    "\n",
    "# Print result of p-value (stat significant or not?)\n",
    "if pval[1] < 0.05:\n",
    "    print(f\"P-value IS statistically significant (p-value = {pval[1]})\")\n",
    "else:\n",
    "    print(f\"P-value IS NOT statistically significant (p-value = {pval[1]})\")"
   ]
  },
  {
   "cell_type": "markdown",
   "metadata": {},
   "source": [
    "Filtering for further analysis on `cause_short` identifier."
   ]
  },
  {
   "cell_type": "code",
   "execution_count": 40,
   "metadata": {},
   "outputs": [],
   "source": [
    "# F and separate our dataframes\n",
    "df_filt = df[df['cause_short'].notna()]\n",
    "df_f = df_filt[df_filt['gender']=='f']\n",
    "df_m = df_filt[df_filt['gender']=='m']\n",
    "\n",
    "# Get number of female and male inmates, respectively\n",
    "n_f = df_f.shape[0]\n",
    "n_m = df_m.shape[0]"
   ]
  },
  {
   "cell_type": "markdown",
   "metadata": {},
   "source": [
    "## Male vs. Female inmates dying by medical complication"
   ]
  },
  {
   "cell_type": "code",
   "execution_count": 45,
   "metadata": {},
   "outputs": [
    {
     "name": "stdout",
     "output_type": "stream",
     "text": [
      "P-value IS NOT statistically significant (p-value = 0.09196638997698743)\n"
     ]
    }
   ],
   "source": [
    "# Get mu of female and male medical complication deaths, respectively\n",
    "mu_f = df_f[df_f['cause_short']=='m'].shape[0] / n_f\n",
    "mu_m = df_m[df_m['cause_short']=='m'].shape[0] / n_m\n",
    "\n",
    "# Get standard deviations for female and male medical complication deaths, respectively\n",
    "std_f = np.std(np.where(df_f['cause_short']=='m', 1, 0))\n",
    "std_m = np.std(np.where(df_m['cause_short']=='m', 1, 0))\n",
    "\n",
    "# Calculate p-value\n",
    "pval = stats.ttest_ind_from_stats(mu_f, std_f, n_f, mu_m, std_m, n_m)\n",
    "\n",
    "# Print result of p-value (stat significant or not?)\n",
    "if pval[1] < 0.05:\n",
    "    print(f\"P-value IS statistically significant (p-value = {pval[1]})\")\n",
    "else:\n",
    "    print(f\"P-value IS NOT statistically significant (p-value = {pval[1]})\")"
   ]
  },
  {
   "cell_type": "markdown",
   "metadata": {},
   "source": [
    "First, I filtered the dataframe to include only rows where 'cause_short' is not NA. Then I make separate dataframes for male vs. female inmates. After, I calculated the relevant sample statistics (sample n, sample mean, sample standard deviation). Finally, I conducted an independent t-test. \n",
    "\n",
    "$H_0$: The proportion of incarcerated males who died in custody by medical complications is the same as the proportion of incarcerated females who died in custody of medical complications. \n",
    "\n",
    "$H_A$: The proportion of incarcerated males who died in custody by medical complications is **NOT** the same as the proportion of incarcerated females who died in custody of medical complications.\n",
    "\n",
    "Our calculated p-value was 0.162; using a significance level of 0.05, this means that we fail to reject the null hypothesis. There was **insufficient** evidence to claim that there was a significant difference in the proportion of incarcerated males who died in custody by medical complications vs. the proportion of incarcerated females who died in custody by medical complication. "
   ]
  },
  {
   "cell_type": "markdown",
   "metadata": {},
   "source": [
    "## Male vs. Female dying by suicide"
   ]
  },
  {
   "cell_type": "code",
   "execution_count": 22,
   "metadata": {},
   "outputs": [
    {
     "name": "stdout",
     "output_type": "stream",
     "text": [
      "P-value IS statistically significant (p-value = 1.0912077967916176e-08)\n"
     ]
    }
   ],
   "source": [
    "# Get mu of female and male suicide deaths, respectively\n",
    "mu_f_s = df_f[df_f['cause_short']=='s'].shape[0] / n_f\n",
    "mu_m_s = df_m[df_m['cause_short']=='s'].shape[0] / n_m\n",
    "\n",
    "# Get standard deviations for female and male suicide deaths, respectively\n",
    "std_f_s = np.std(np.where(df_f['cause_short']=='s', 1, 0))\n",
    "std_m_s = np.std(np.where(df_m['cause_short']=='s', 1, 0))\n",
    "\n",
    "# Calculate p-value\n",
    "pval = stats.ttest_ind_from_stats(mu_f_s, std_f_s, n_f, mu_m_s, std_m_s, n_m)\n",
    "\n",
    "# Print result of p-value (stat significant or not?)\n",
    "if pval[1] < 0.05:\n",
    "    print(f\"P-value IS statistically significant (p-value = {pval[1]})\")\n",
    "else:\n",
    "    print(f\"P-value IS NOT statistically significant (p-value = {pval[1]})\")"
   ]
  },
  {
   "cell_type": "markdown",
   "metadata": {},
   "source": [
    "$H_0$: The proportion of incarcerated males who died in custody by suicide is the same as the proportion of incarcerated females who died in custody by suicide. \n",
    "\n",
    "$H_A$: The proportion of incarcerated males who died in custody by suicide is **NOT** the same as the proportion of incarcerated females who died in custody by suicide. \n",
    "\n",
    "Our calculated p-value was 1.091e-08; using a significance level of 0.05, this means that we CAN reject the null hypothesis. There was **sufficient** evidence to claim that there **IS** a significant difference in the proportion of incarcerated males who died in custody by suicide vs. the proportion of incarcerated females who died in custody by suicide. "
   ]
  },
  {
   "cell_type": "markdown",
   "metadata": {},
   "source": [
    "MISSING CF BLOCK FROM ALI'S FILE"
   ]
  },
  {
   "cell_type": "markdown",
   "metadata": {},
   "source": [
    "# Male vs. Female dying by homicide "
   ]
  },
  {
   "cell_type": "code",
   "execution_count": 23,
   "metadata": {},
   "outputs": [
    {
     "name": "stdout",
     "output_type": "stream",
     "text": [
      "P-value IS statistically significant (p-value = 5.561132766859688e-07)\n"
     ]
    }
   ],
   "source": [
    "# Get mu of female and male homicide deaths, respectively\n",
    "mu_f_h = df_f[df_f['cause_short']=='h'].shape[0] / n_f\n",
    "mu_m_h = df_m[df_m['cause_short']=='h'].shape[0] / n_m\n",
    "\n",
    "# Get standard deviations for female and male homicide deaths, respectively\n",
    "std_f_h = np.std(np.where(df_f['cause_short']=='h', 1, 0))\n",
    "std_m_h = np.std(np.where(df_m['cause_short']=='h', 1, 0))\n",
    "\n",
    "# Calculate p-value\n",
    "pval = stats.ttest_ind_from_stats(mu_f_h, std_f_h, n_f, mu_m_h, std_m_h, n_m)\n",
    "\n",
    "# Print result of p-value (stat significant or not?)\n",
    "if pval[1] < 0.05:\n",
    "    print(f\"P-value IS statistically significant (p-value = {pval[1]})\")\n",
    "else:\n",
    "    print(f\"P-value IS NOT statistically significant (p-value = {pval[1]})\")"
   ]
  },
  {
   "cell_type": "markdown",
   "metadata": {},
   "source": [
    "$H_0$: The proportion of incarcerated males who died in custody by homicide is the same as the proportion of incarcerated females who died in custody by homicide. \n",
    "\n",
    "$H_A$: The proportion of incarcerated males who died in custody by homicide is **NOT** the same as the proportion of incarcerated females who died in custody by homicide. \n",
    "\n",
    "Our calculated p-value was 5.561e-07; using a significance level of 0.05, this means that we CAN reject the null hypothesis. There was **sufficient** evidence to claim that there **IS** a significant difference in the proportion of incarcerated males who died in custody by homicide vs. the proportion of incarcerated females who died in custody by homicide. "
   ]
  }
 ],
 "metadata": {
  "kernelspec": {
   "display_name": "Python 3.8.5",
   "language": "python",
   "name": "python3"
  },
  "language_info": {
   "codemirror_mode": {
    "name": "ipython",
    "version": 3
   },
   "file_extension": ".py",
   "mimetype": "text/x-python",
   "name": "python",
   "nbconvert_exporter": "python",
   "pygments_lexer": "ipython3",
   "version": "3.8.5"
  },
  "orig_nbformat": 4,
  "vscode": {
   "interpreter": {
    "hash": "6ede62234378203c00d84e11daef90ff459587fd7b89dbe6c64b0530d6eb232b"
   }
  }
 },
 "nbformat": 4,
 "nbformat_minor": 2
}
