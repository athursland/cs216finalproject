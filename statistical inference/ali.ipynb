{
 "cells": [
  {
   "cell_type": "markdown",
   "metadata": {},
   "source": [
    "# Ali checkpoint\n",
    "## exploratory analysis"
   ]
  },
  {
   "cell_type": "code",
   "execution_count": 1,
   "metadata": {},
   "outputs": [],
   "source": [
    "import pandas as pd\n",
    "import numpy as np\n",
    "import seaborn as sns\n",
    "from scipy import stats\n",
    "import folium as folium\n",
    "\n",
    "df = pd.read_csv('all_deaths_clean.csv', encoding='utf-8')"
   ]
  },
  {
   "cell_type": "code",
   "execution_count": 2,
   "metadata": {},
   "outputs": [
    {
     "name": "stdout",
     "output_type": "stream",
     "text": [
      "Index(['id', 'state', 'county', 'jail', 'year', 'date_of_death', 'full_name',\n",
      "       'last_name', 'first_name', 'mid_name', 'suffix', 'date_incarcerated',\n",
      "       'cause_short', 'cause_detail', 'dob', 'yob', 'age', 'race',\n",
      "       'race_detail', 'gender', 'custody_status', 'what_info_from_media',\n",
      "       'num_media_descriptors', 'length_incarceration', 'cause_detail_group'],\n",
      "      dtype='object')\n",
      "['m' 's' 'da' 'h' 'ac' nan 'o' 'a' 'u']\n"
     ]
    }
   ],
   "source": [
    "#df.head()\n",
    "print(df.columns)\n",
    "print(df['cause_short'].unique())"
   ]
  },
  {
   "cell_type": "code",
   "execution_count": 3,
   "metadata": {},
   "outputs": [
    {
     "name": "stdout",
     "output_type": "stream",
     "text": [
      "length of df:  7571\n",
      "list of columns:  Index(['id', 'state', 'county', 'jail', 'year', 'date_of_death', 'full_name',\n",
      "       'last_name', 'first_name', 'mid_name', 'suffix', 'date_incarcerated',\n",
      "       'cause_short', 'cause_detail', 'dob', 'yob', 'age', 'race',\n",
      "       'race_detail', 'gender', 'custody_status', 'what_info_from_media',\n",
      "       'num_media_descriptors', 'length_incarceration', 'cause_detail_group'],\n",
      "      dtype='object')\n",
      "cases where causes of death are known:  6097\n",
      "cases where year of death is known:  7571\n",
      "cases where age of victim is known:  3325\n",
      "318\n",
      "7                      name, age, date of death, race, \n",
      "8                                    date of death, age\n",
      "9                   name, age, race, date of death, cod\n",
      "10                       name, dob, date of death, race\n",
      "18    date of death, age, custody status, date of ar...\n",
      "19                   date of death, age, custody status\n",
      "20                         age, race, conviction status\n",
      "22          date of death, age, race, conviction status\n",
      "28                                                  age\n",
      "30                                                  dob\n",
      "Name: what_info_from_media, dtype: object\n"
     ]
    }
   ],
   "source": [
    "# general info about dataset\n",
    "\n",
    "df_len = len(df)\n",
    "print(\"length of df: \", df_len)\n",
    "\n",
    "print(\"list of columns: \", df.columns)\n",
    "\n",
    "# number of non NA vals per col\n",
    "\n",
    "known_causes = df[df['cause_detail'].notna()]\n",
    "print(\"cases where causes of death are known: \", len(known_causes))\n",
    "\n",
    "known_year = df[df['year'].notna()]\n",
    "print(\"cases where year of death is known: \", len(known_year))\n",
    "\n",
    "known_age = df[df['age'].notna()]\n",
    "print(\"cases where age of victim is known: \", len(known_age))\n",
    "\n",
    "info_media = df[df['what_info_from_media'].notna()]\n",
    "print(len(info_media))\n",
    "print(info_media['what_info_from_media'][:10])"
   ]
  },
  {
   "cell_type": "code",
   "execution_count": 4,
   "metadata": {},
   "outputs": [
    {
     "name": "stdout",
     "output_type": "stream",
     "text": [
      "cases where race is known:  6899\n",
      "unique races:  ['B' 'W' 'H' 'AI' 'A' 'O' 'PI']\n",
      "counts of instances of death grouped by race:  race\n",
      "A       82\n",
      "AI      72\n",
      "B     2133\n",
      "H      879\n",
      "O       31\n",
      "PI      11\n",
      "W     3690\n",
      "Name: id, dtype: int64\n",
      "cases where race detail is known:  36\n",
      "unique race details:  ['Other Asian' 'Asian Indian' 'Korean' 'Vietnamese' 'Filipino' 'Hawaiian'\n",
      " 'State says W, county says B' 'Chinese' 'Guamanian' 'Bangladeshi'\n",
      " 'White Hispanic' 'Cuban' 'Liberian' 'Antigua-Barbuda' 'multi-racial']\n"
     ]
    }
   ],
   "source": [
    "# race info\n",
    "\n",
    "races = df[df['race'].notna()]\n",
    "print(\"cases where race is known: \", len(races))\n",
    "print(\"unique races: \", races['race'].unique())\n",
    "count_by_race = races.groupby('race')['id'].count()\n",
    "print(\"counts of instances of death grouped by race: \", count_by_race)\n",
    "race_details = df[df['race_detail'].notna()]\n",
    "print(\"cases where race detail is known: \", len(race_details))\n",
    "print(\"unique race details: \", race_details['race_detail'].unique())"
   ]
  },
  {
   "cell_type": "code",
   "execution_count": 5,
   "metadata": {},
   "outputs": [
    {
     "name": "stdout",
     "output_type": "stream",
     "text": [
      "count of deaths by state:  state\n",
      "AL      80\n",
      "AR      71\n",
      "AZ     195\n",
      "CA    1221\n",
      "CO     185\n",
      "DC      52\n",
      "FL     739\n",
      "GA     272\n",
      "IA      33\n",
      "ID      40\n",
      "Name: id, dtype: int64\n",
      "count of deaths by county:  county\n",
      "Ada                                                                   11\n",
      "Adams                                                                 27\n",
      "Aiken                                                                 11\n",
      "Alachua                                                               16\n",
      "Alameda                                                               83\n",
      "Allegheny                                                             43\n",
      "Allen                                                                 12\n",
      "Amelia, Buckingham, Cumberland, Lunenburg, Nottoway, Prince Edward    11\n",
      "Anderson                                                               5\n",
      "Androscoggin                                                           4\n",
      "Name: id, dtype: int64\n",
      "# of counties:  404\n",
      "count of deaths by year:  year\n",
      "2008    468\n",
      "2009    568\n",
      "2010    571\n",
      "2011    575\n",
      "2012    591\n",
      "2013    619\n",
      "2014    671\n",
      "2015    688\n",
      "2016    679\n",
      "2017    731\n",
      "2018    710\n",
      "2019    699\n",
      "Name: id, dtype: int64\n",
      "count of deaths by gender:  gender\n",
      "f     911\n",
      "m    6270\n",
      "Name: id, dtype: int64\n",
      "count of deaths by age:  age\n",
      "15.0     1\n",
      "16.0     1\n",
      "17.0     7\n",
      "18.0    17\n",
      "19.0    26\n",
      "        ..\n",
      "85.0     3\n",
      "86.0     1\n",
      "88.0     1\n",
      "91.0     1\n",
      "93.0     1\n",
      "Name: id, Length: 75, dtype: int64\n",
      "max age:  93.0\n",
      "min age:  15.0\n",
      "avg age:  43.84932330827068\n"
     ]
    },
    {
     "data": {
      "image/png": "[encoded data removed]",
      "text/plain": [
       "<Figure size 432x288 with 1 Axes>"
      ]
     },
     "metadata": {
      "needs_background": "light"
     },
     "output_type": "display_data"
    }
   ],
   "source": [
    "# groupby\n",
    "\n",
    "states = df.groupby('state')['id'].count()\n",
    "print(\"count of deaths by state: \", states[:10])\n",
    "\n",
    "counties = df.groupby('county')['id'].count()\n",
    "print(\"count of deaths by county: \", counties[:10])\n",
    "print(\"# of counties: \", len(counties))\n",
    "\n",
    "years = df.groupby('year')['id'].count()\n",
    "print(\"count of deaths by year: \", years)\n",
    "\n",
    "gender = df.groupby('gender')['id'].count()\n",
    "print(\"count of deaths by gender: \", gender)\n",
    "\n",
    "age = df.groupby('age')['id'].count()\n",
    "print(\"count of deaths by age: \", age)\n",
    "print(\"max age: \", np.amax(df['age']))\n",
    "print(\"min age: \", np.amin(df['age']))\n",
    "print(\"avg age: \", np.mean(df['age']))\n",
    "\n",
    "plt1 = sns.countplot(x=df[\"gender\"])"
   ]
  },
  {
   "cell_type": "markdown",
   "metadata": {},
   "source": [
    "**cause_short:**\tcause of death category (AC: accident; S: suicide; H: homicide; M: illness; DA: acute drugs/alcohol problems; O: other)"
   ]
  },
  {
   "cell_type": "markdown",
   "metadata": {},
   "source": [
    "## Hypothesis testing:\n",
    "### Male vs. Female inmates dying by medical complication"
   ]
  },
  {
   "cell_type": "code",
   "execution_count": 7,
   "metadata": {},
   "outputs": [
    {
     "name": "stdout",
     "output_type": "stream",
     "text": [
      "P-value:  0.1617784997420478\n"
     ]
    }
   ],
   "source": [
    "# filter and separate our dataframes\n",
    "df_filt = df[df['cause_short'].notna()]\n",
    "df_f = df_filt[df_filt['gender']=='f']\n",
    "df_m = df_filt[df_filt['gender']=='m']\n",
    "\n",
    "# set up values \n",
    "\n",
    "n_f = df_f.shape[0]\n",
    "n_m = df_m.shape[0]\n",
    "\n",
    "mu_f = df_f[df_f['cause_short']=='m'].shape[0] / n_f\n",
    "mu_m = df_m[df_m['cause_short']=='m'].shape[0] / n_m\n",
    "\n",
    "std_f = np.std(np.where(df_f['cause_short']=='m', 1, 0))\n",
    "std_m = np.std(np.where(df_m['cause_short']=='m', 1, 0))\n",
    "\n",
    "# conduct hypothesis test\n",
    "\n",
    "pval = stats.ttest_ind_from_stats(mu_f, std_f, n_f, mu_m, std_m, n_m)\n",
    "\n",
    "print(\"P-value: \", pval[1])"
   ]
  },
  {
   "cell_type": "markdown",
   "metadata": {},
   "source": [
    "First, I filtered the dataframe to include only rows where 'cause_short' is not NA. Then I make separate dataframes for male vs. female inmates. After, I calculated the relevant sample statistics (sample n, sample mean, sample standard deviation). Finally, I conducted an independent t-test. \n",
    "\n",
    "$H_0$: The proportion of incarcerated males who died in custody by medical complications is the same as the proportion of incarcerated females who died in custody of medical complications. \n",
    "\n",
    "$H_A$: The proportion of incarcerated males who died in custody by medical complications is **NOT** the same as the proportion of incarcerated females who died in custody of medical complications.\n",
    "\n",
    "Our calculated p-value was 0.162; using a significance level of 0.05, this means that we fail to reject the null hypothesis. There was **insufficient** evidence to claim that there was a significant difference in the proportion of incarcerated males who died in custody by medical complications vs. the proportion of incarcerated females who died in custody by medical complication. "
   ]
  },
  {
   "cell_type": "markdown",
   "metadata": {},
   "source": [
    "## Male vs. Female dying by suicide"
   ]
  },
  {
   "cell_type": "code",
   "execution_count": 8,
   "metadata": {},
   "outputs": [
    {
     "name": "stdout",
     "output_type": "stream",
     "text": [
      "P-value:  1.0912077967916176e-08\n"
     ]
    }
   ],
   "source": [
    "# ttest\n",
    "\n",
    "mu_f_s = df_f[df_f['cause_short']=='s'].shape[0] / n_f\n",
    "mu_m_s = df_m[df_m['cause_short']=='s'].shape[0] / n_m\n",
    "\n",
    "std_f_s = np.std(np.where(df_f['cause_short']=='s', 1, 0))\n",
    "std_m_s = np.std(np.where(df_m['cause_short']=='s', 1, 0))\n",
    "\n",
    "pval = stats.ttest_ind_from_stats(mu_f_s, std_f_s, n_f, mu_m_s, std_m_s, n_m)\n",
    "\n",
    "print(\"P-value: \", pval[1])"
   ]
  },
  {
   "cell_type": "markdown",
   "metadata": {},
   "source": [
    "$H_0$: The proportion of incarcerated males who died in custody by suicide is the same as the proportion of incarcerated females who died in custody by suicide. \n",
    "\n",
    "$H_A$: The proportion of incarcerated males who died in custody by suicide is **NOT** the same as the proportion of incarcerated females who died in custody by suicide. \n",
    "\n",
    "Our calculated p-value was 1.091e-08; using a significance level of 0.05, this means that we CAN reject the null hypothesis. There was **sufficient** evidence to claim that there **IS** a significant difference in the proportion of incarcerated males who died in custody by suicide vs. the proportion of incarcerated females who died in custody by suicide. "
   ]
  },
  {
   "cell_type": "markdown",
   "metadata": {},
   "source": [
    "## Confidence interval for proportion of deaths by suicide, grouped by gender"
   ]
  },
  {
   "cell_type": "code",
   "execution_count": 9,
   "metadata": {},
   "outputs": [
    {
     "name": "stdout",
     "output_type": "stream",
     "text": [
      "empirical prop female inmates who died by suicide:  21.41176470588235\n",
      "confidence interval:  (18.65408624087965, 24.169443170885053)\n"
     ]
    }
   ],
   "source": [
    "# ci female suicide\n",
    "\n",
    "scale_f_s = np.sqrt(mu_f_s*(1-mu_f_s)) / np.sqrt(n_f)\n",
    "ci_f_s = stats.norm.interval(alpha=0.95,loc=(mu_f_s)*100,scale=(scale_f_s)*100)\n",
    "\n",
    "print(\"empirical prop female inmates who died by suicide: \", (mu_f_s*100))\n",
    "print(\"confidence interval: \", (ci_f_s[0], ci_f_s[1]))"
   ]
  },
  {
   "cell_type": "markdown",
   "metadata": {},
   "source": [
    "We are 95% confident that the true population proportion of incarcerated females who die by suicide is between 18.65% and 24.17%."
   ]
  },
  {
   "cell_type": "code",
   "execution_count": 10,
   "metadata": {},
   "outputs": [
    {
     "name": "stdout",
     "output_type": "stream",
     "text": [
      "empirical prop female inmates who died by suicide:  30.993354915658543\n",
      "confidence interval:  (29.810188624683104, 32.17652120663398)\n"
     ]
    }
   ],
   "source": [
    "# ci male suicide\n",
    "\n",
    "scale_m_s = np.sqrt(mu_m_s*(1-mu_m_s)) / np.sqrt(n_m)\n",
    "ci_m_s = stats.norm.interval(alpha=0.95,loc=(mu_m_s)*100,scale=(scale_m_s)*100)\n",
    "\n",
    "print(\"empirical prop female inmates who died by suicide: \", (mu_m_s*100))\n",
    "print(\"confidence interval: \", (ci_m_s[0], ci_m_s[1]))"
   ]
  },
  {
   "cell_type": "markdown",
   "metadata": {},
   "source": [
    "We are 95% confident that the true proportion of incarcerated males who die by suicide is between 29.81% and 32.176%."
   ]
  },
  {
   "cell_type": "markdown",
   "metadata": {},
   "source": [
    "# Male vs. Female dying by homicide "
   ]
  },
  {
   "cell_type": "code",
   "execution_count": 11,
   "metadata": {},
   "outputs": [
    {
     "name": "stdout",
     "output_type": "stream",
     "text": [
      "P-value:  5.561132766859688e-07\n"
     ]
    }
   ],
   "source": [
    "# ttest\n",
    "\n",
    "mu_f_h = df_f[df_f['cause_short']=='h'].shape[0] / n_f\n",
    "mu_m_h = df_m[df_m['cause_short']=='h'].shape[0] / n_m\n",
    "\n",
    "std_f_h = np.std(np.where(df_f['cause_short']=='h', 1, 0))\n",
    "std_m_h = np.std(np.where(df_m['cause_short']=='h', 1, 0))\n",
    "\n",
    "pval = stats.ttest_ind_from_stats(mu_f_h, std_f_h, n_f, mu_m_h, std_m_h, n_m)\n",
    "\n",
    "print(\"P-value: \", pval[1])"
   ]
  },
  {
   "cell_type": "markdown",
   "metadata": {},
   "source": [
    "$H_0$: The proportion of incarcerated males who died in custody by homicide is the same as the proportion of incarcerated females who died in custody by homicide. \n",
    "\n",
    "$H_A$: The proportion of incarcerated males who died in custody by homicide is **NOT** the same as the proportion of incarcerated females who died in custody by homicide. \n",
    "\n",
    "Our calculated p-value was 5.561e-07; using a significance level of 0.05, this means that we CAN reject the null hypothesis. There was **sufficient** evidence to claim that there **IS** a significant difference in the proportion of incarcerated males who died in custody by homicide vs. the proportion of incarcerated females who died in custody by homicide. "
   ]
  },
  {
   "cell_type": "markdown",
   "metadata": {},
   "source": [
    "## Confidence interval for proportion of deaths by homicide, grouped by gender"
   ]
  },
  {
   "cell_type": "code",
   "execution_count": 25,
   "metadata": {},
   "outputs": [
    {
     "name": "stdout",
     "output_type": "stream",
     "text": [
      "num observations:  2\n"
     ]
    }
   ],
   "source": [
    "# ci female homicide\n",
    "'''\n",
    "scale_f_h = np.sqrt(mu_f_h*(1-mu_f_h)) / np.sqrt(n_f)\n",
    "ci_f_h = stats.norm.interval(alpha=0.95,loc=(mu_f_h)*100,scale=(scale_f_h)*100)\n",
    "\n",
    "print(\"empirical prop female inmates who died by suicide: \", (mu_f_h*100))\n",
    "print(\"confidence interval: \", (ci_f_h[0], ci_f_h[1]))\n",
    "'''\n",
    "print('num observations: ', df_f[df_f['cause_short']=='h'].shape[0])"
   ]
  },
  {
   "cell_type": "markdown",
   "metadata": {},
   "source": [
    "Above is the code for a confidence interval for the true population proportion of incarcerated females deaths by homicide; however, this is inappropriate, as there are only 2 observations of female inmates dying by homicide in our dataset, which is not enough to calculate a meaningful confidence interval."
   ]
  },
  {
   "cell_type": "code",
   "execution_count": 24,
   "metadata": {},
   "outputs": [
    {
     "name": "stdout",
     "output_type": "stream",
     "text": [
      "empirical prop female inmates who died by suicide:  3.3395808485261544\n",
      "confidence interval:  (2.8799212279783535, 3.7992404690739554)\n",
      "num observations:  196\n"
     ]
    }
   ],
   "source": [
    "# ci male homicide\n",
    "\n",
    "scale_m_h = np.sqrt(mu_m_h*(1-mu_m_h)) / np.sqrt(n_m)\n",
    "ci_m_h = stats.norm.interval(alpha=0.95,loc=(mu_m_h)*100,scale=(scale_m_h)*100)\n",
    "\n",
    "print(\"empirical prop female inmates who died by suicide: \", (mu_m_h*100))\n",
    "print(\"confidence interval: \", (ci_m_h[0], ci_m_h[1]))\n",
    "\n",
    "print(\"num observations: \", df_m[df_m['cause_short']=='h'].shape[0])"
   ]
  },
  {
   "cell_type": "markdown",
   "metadata": {},
   "source": [
    "We are 95% confident that the true population proportion of incarcerated males who die by homicide is between 2.87% and 3.79%. "
   ]
  },
  {
   "cell_type": "markdown",
   "metadata": {},
   "source": [
    "# Male vs. Female dying by accident"
   ]
  },
  {
   "cell_type": "code",
   "execution_count": 26,
   "metadata": {},
   "outputs": [
    {
     "name": "stdout",
     "output_type": "stream",
     "text": [
      "number of males who died by accident:  122\n",
      "number of females who died by accident:  18\n"
     ]
    }
   ],
   "source": [
    "print(\"number of males who died by accident: \", df_m[df_m['cause_short']=='ac'].shape[0])\n",
    "print(\"number of females who died by accident: \", df_f[df_f['cause_short']=='ac'].shape[0])"
   ]
  },
  {
   "cell_type": "markdown",
   "metadata": {},
   "source": [
    "# Male vs. Female dying by acute drug/alcohol problems"
   ]
  },
  {
   "cell_type": "code",
   "execution_count": 29,
   "metadata": {},
   "outputs": [
    {
     "name": "stdout",
     "output_type": "stream",
     "text": [
      "P-value:  1.0591917485729585e-17\n",
      "n_f_da:  143\n",
      "n_m_da:  461\n"
     ]
    }
   ],
   "source": [
    "# ttest\n",
    "\n",
    "mu_f_da = df_f[df_f['cause_short']=='da'].shape[0] / n_f\n",
    "mu_m_da = df_m[df_m['cause_short']=='da'].shape[0] / n_m\n",
    "\n",
    "std_f_da = np.std(np.where(df_f['cause_short']=='da', 1, 0))\n",
    "std_m_da = np.std(np.where(df_m['cause_short']=='da', 1, 0))\n",
    "\n",
    "pval = stats.ttest_ind_from_stats(mu_f_da, std_f_da, n_f, mu_m_da, std_m_da, n_m)\n",
    "\n",
    "print(\"P-value: \", pval[1])\n",
    "print(\"n_f_da: \", df_f[df_f['cause_short']=='da'].shape[0])\n",
    "print(\"n_m_da: \", df_m[df_m['cause_short']=='da'].shape[0])"
   ]
  },
  {
   "cell_type": "markdown",
   "metadata": {},
   "source": [
    "$H_0$: The proportion of incarcerated males who died in custody by acute drug/alcohol related problems is the same as the proportion of incarcerated females who died in custody by acute drug/alcohol related problems. \n",
    "\n",
    "$H_A$: The proportion of incarcerated males who died in custody by acute drug/alcohol related problems is **NOT** the same as the proportion of incarcerated females who died in custody by acute drug/alcohol related problems. \n",
    "\n",
    "Our calculated p-value was 1.059e-17; using a significance level of 0.05, this means that we CAN reject the null hypothesis. There was **sufficient** evidence to claim that there **IS** a significant difference in the proportion of incarcerated males who died in custody by acute drug/alcohol related problems vs. the proportion of incarcerated females who died in custody by acute drug/alcohol related problems. "
   ]
  },
  {
   "cell_type": "markdown",
   "metadata": {},
   "source": [
    "## Confidence interval for proportion of deaths by acute drug/alcohol related problems,  by gender"
   ]
  },
  {
   "cell_type": "code",
   "execution_count": 32,
   "metadata": {},
   "outputs": [
    {
     "name": "stdout",
     "output_type": "stream",
     "text": [
      "empirical prop female inmates who died by acute drug/alcohol problems:  16.823529411764707\n",
      "confidence interval:  (14.308764291416688, 19.338294532112723)\n"
     ]
    }
   ],
   "source": [
    "# ci female da\n",
    "\n",
    "scale_f_da = np.sqrt(mu_f_da*(1-mu_f_da)) / np.sqrt(n_f)\n",
    "ci_f_da = stats.norm.interval(alpha=0.95,loc=(mu_f_da)*100,scale=(scale_f_da)*100)\n",
    "\n",
    "print(\"empirical prop female inmates who died by acute drug/alcohol problems: \", \n",
    "      (mu_f_da*100))\n",
    "print(\"confidence interval: \", (ci_f_da[0], ci_f_da[1]))"
   ]
  },
  {
   "cell_type": "markdown",
   "metadata": {},
   "source": [
    "We are 95% confident that the true population proportion of incarcerated females who died by acute drug/alcohol related problems is between 14.309% and 19.338%. "
   ]
  },
  {
   "cell_type": "code",
   "execution_count": 34,
   "metadata": {},
   "outputs": [
    {
     "name": "stdout",
     "output_type": "stream",
     "text": [
      "empirical prop female inmates who died by acute drug/alcohol problems:  7.854830465155905\n",
      "confidence interval:  (7.166541620393809, 8.543119309918001)\n"
     ]
    }
   ],
   "source": [
    "# ci male da\n",
    "\n",
    "scale_m_da = np.sqrt(mu_m_da*(1-mu_m_da)) / np.sqrt(n_m)\n",
    "ci_m_da = stats.norm.interval(alpha=0.95,loc=(mu_m_da)*100,scale=(scale_m_da)*100)\n",
    "\n",
    "print(\"empirical prop female inmates who died by acute drug/alcohol problems: \", \n",
    "      (mu_m_da*100))\n",
    "print(\"confidence interval: \", (ci_m_da[0], ci_m_da[1]))"
   ]
  },
  {
   "cell_type": "markdown",
   "metadata": {},
   "source": [
    "We are 95% confident that the true population proportion of incarcerated males who died by acute drug/alcohol related problems is between 7.167%% and 8.543%. "
   ]
  },
  {
   "cell_type": "code",
   "execution_count": null,
   "metadata": {},
   "outputs": [],
   "source": []
  }
 ],
 "metadata": {
  "kernelspec": {
   "display_name": "Python 3.8.5",
   "language": "python",
   "name": "python3"
  },
  "language_info": {
   "codemirror_mode": {
    "name": "ipython",
    "version": 3
   },
   "file_extension": ".py",
   "mimetype": "text/x-python",
   "name": "python",
   "nbconvert_exporter": "python",
   "pygments_lexer": "ipython3",
   "version": "3.8.5"
  },
  "vscode": {
   "interpreter": {
    "hash": "6ede62234378203c00d84e11daef90ff459587fd7b89dbe6c64b0530d6eb232b"
   }
  }
 },
 "nbformat": 4,
 "nbformat_minor": 4
}
