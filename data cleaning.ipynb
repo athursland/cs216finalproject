{
 "cells": [
  {
   "cell_type": "code",
   "execution_count": 1,
   "metadata": {},
   "outputs": [],
   "source": [
    "import pandas as pd\n",
    "import numpy as np\n",
    "import seaborn as sns\n",
    "\n",
    "df = pd.read_csv('Allstatesinsurvey/all_deaths.csv', encoding='cp1252')"
   ]
  },
  {
   "cell_type": "code",
   "execution_count": 38,
   "metadata": {},
   "outputs": [],
   "source": [
    "# cleaning \n",
    "\n",
    "df_temp = df\n",
    "df_temp['gender'] = df_temp['gender'].str.lower()\n",
    "\n",
    "df_temp['cause_short'] = df_temp['cause_short'].str.lower()\n",
    "\n",
    "df_temp['what_info_from_media'] = df_temp['what_info_from_media'].str.lower()\n",
    "\n",
    "df_temp['cause_detail'] = df_temp['cause_detail'].str.lower()\n",
    "\n",
    "df_temp['num_media_descriptors'] = 0\n",
    "\n",
    "df_temp['num_media_descriptors'] = df_temp['what_info_from_media'].str.split(\",\").str.len()"
   ]
  },
  {
   "cell_type": "code",
   "execution_count": 41,
   "metadata": {},
   "outputs": [],
   "source": [
    "# save\n",
    "\n",
    "df_temp.to_csv('all_deaths_clean', encoding='utf-8', index=False)"
   ]
  },
  {
   "cell_type": "code",
   "execution_count": null,
   "metadata": {},
   "outputs": [],
   "source": []
  }
 ],
 "metadata": {
  "kernelspec": {
   "display_name": "Python 3",
   "language": "python",
   "name": "python3"
  },
  "language_info": {
   "codemirror_mode": {
    "name": "ipython",
    "version": 3
   },
   "file_extension": ".py",
   "mimetype": "text/x-python",
   "name": "python",
   "nbconvert_exporter": "python",
   "pygments_lexer": "ipython3",
   "version": "3.8.5"
  }
 },
 "nbformat": 4,
 "nbformat_minor": 4
}
